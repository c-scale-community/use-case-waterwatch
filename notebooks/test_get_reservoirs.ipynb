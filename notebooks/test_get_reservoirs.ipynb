{
 "cells": [
  {
   "cell_type": "code",
   "execution_count": 12,
   "id": "a1ea578e-e17b-4cb6-8648-ad2f473fd021",
   "metadata": {},
   "outputs": [
    {
     "name": "stdout",
     "output_type": "stream",
     "text": [
      "  Package                         Version  Build               Channel                     Size\n",
      "─────────────────────────────────────────────────────────────────────────────────────────────────\n",
      "  Install:\n",
      "─────────────────────────────────────────────────────────────────────────────────────────────────\n",
      "\n",
      "\u001b[32m  + blosc                  \u001b[00m        1.21.0  h9c3ff4c_0          conda-forge/linux-64      841 KB\n",
      "\u001b[32m  + fiona                  \u001b[00m        1.8.21  py39h83acdc4_1      conda-forge/linux-64      928 KB\n",
      "\u001b[32m  + gdal                   \u001b[00m         3.4.2  py39hc691d54_4      conda-forge/linux-64        2 MB\n",
      "\u001b[32m  + libllvm13              \u001b[00m        13.0.1  hf817b99_2          conda-forge/linux-64       34 MB\n",
      "\u001b[32m  + munch                  \u001b[00m         2.5.0  py_0                conda-forge/noarch         12 KB\n",
      "\n",
      "  Change:\n",
      "─────────────────────────────────────────────────────────────────────────────────────────────────\n",
      "\n",
      "\u001b[31m  - boost-cpp              \u001b[00m        1.74.0  h312852a_4          installed                       \n",
      "\u001b[32m  + boost-cpp              \u001b[00m        1.74.0  h6cacc03_7          conda-forge/linux-64       16 MB\n",
      "\u001b[31m  - cairo                  \u001b[00m        1.16.0  h6cf1ce9_1008       installed                       \n",
      "\u001b[32m  + cairo                  \u001b[00m        1.16.0  ha12eb4b_1010       conda-forge/linux-64        2 MB\n",
      "\u001b[31m  - certifi                \u001b[00m     2021.10.8  py39hf3d152e_1      installed                       \n",
      "\u001b[32m  + certifi                \u001b[00m     2021.10.8  py39hf3d152e_2      conda-forge/linux-64      145 KB\n",
      "\u001b[31m  - configurable-http-proxy\u001b[00m         4.5.0  node14_h5556789_2   installed                       \n",
      "\u001b[32m  + configurable-http-proxy\u001b[00m         4.5.0  node17_h7e777a6_2   conda-forge/linux-64        2 MB\n",
      "\u001b[31m  - libedit                \u001b[00m  3.1.20191231  he28a2e2_2          installed                       \n",
      "\u001b[32m  + libedit                \u001b[00m  3.1.20191231  he28a2e2_2          conda-forge/linux-64      121 KB\n",
      "\u001b[31m  - librttopo              \u001b[00m         1.1.0  h1185371_6          installed                       \n",
      "\u001b[32m  + librttopo              \u001b[00m         1.1.0  hf69c175_9          conda-forge/linux-64      235 KB\n",
      "\u001b[31m  - libspatialite          \u001b[00m         5.0.1  h8796b1e_9          installed                       \n",
      "\u001b[32m  + libspatialite          \u001b[00m         5.0.1  ha867d66_15         conda-forge/linux-64        4 MB\n",
      "\u001b[31m  - libxml2                \u001b[00m        2.9.12  h72842e0_0          installed                       \n",
      "\u001b[32m  + libxml2                \u001b[00m        2.9.12  h885dcf4_1          conda-forge/linux-64      760 KB\n",
      "\u001b[31m  - python                 \u001b[00m         3.9.7  hb7a2778_3_cpython  installed                       \n",
      "\u001b[32m  + python                 \u001b[00m         3.9.7  hb7a2778_3_cpython  conda-forge/linux-64       27 MB\n",
      "\u001b[31m  - qt                     \u001b[00m        5.12.9  hda022c4_4          installed                       \n",
      "\u001b[32m  + qt                     \u001b[00m        5.12.9  h1304e3e_6          conda-forge/linux-64       99 MB\n",
      "\u001b[31m  - rasterio               \u001b[00m        1.2.10  py39hb37810a_0      installed                       \n",
      "\u001b[32m  + rasterio               \u001b[00m        1.2.10  py39h2e4b6e6_5      conda-forge/linux-64        8 MB\n",
      "\u001b[31m  - readline               \u001b[00m           8.1  h46c0cb4_0          installed                       \n",
      "\u001b[32m  + readline               \u001b[00m           8.1  h46c0cb4_0          conda-forge/linux-64      295 KB\n",
      "\u001b[31m  - xerces-c               \u001b[00m         3.2.3  h9d8b166_3          installed                       \n",
      "\u001b[32m  + xerces-c               \u001b[00m         3.2.3  h8ce2273_4          conda-forge/linux-64        2 MB\n",
      "\n",
      "  Upgrade:\n",
      "─────────────────────────────────────────────────────────────────────────────────────────────────\n",
      "\n",
      "\u001b[31m  - cartopy                \u001b[00m        0.20.1  py39ha48bd0d_1      installed                       \n",
      "\u001b[32m  + cartopy                \u001b[00m        0.20.2  py39h0ddd56c_4      conda-forge/linux-64        2 MB\n",
      "\u001b[31m  - cfitsio                \u001b[00m         3.470  hb418390_7          installed                       \n",
      "\u001b[32m  + cfitsio                \u001b[00m         4.1.0  hd9d235c_0          conda-forge/linux-64        1 MB\n",
      "\u001b[31m  - curl                   \u001b[00m        7.81.0  h2574ce0_0          installed                       \n",
      "\u001b[32m  + curl                   \u001b[00m        7.82.0  h7bff187_0          conda-forge/linux-64       90 KB\n",
      "\u001b[31m  - expat                  \u001b[00m         2.4.6  h27087fc_0          installed                       \n",
      "\u001b[32m  + expat                  \u001b[00m         2.4.8  h27087fc_0          conda-forge/linux-64      187 KB\n",
      "\u001b[31m  - geos                   \u001b[00m         3.9.1  h9c3ff4c_2          installed                       \n",
      "\u001b[32m  + geos                   \u001b[00m        3.10.2  h9c3ff4c_0          conda-forge/linux-64        2 MB\n",
      "\u001b[31m  - geotiff                \u001b[00m         1.7.0  hcfb7246_3          installed                       \n",
      "\u001b[32m  + geotiff                \u001b[00m         1.7.1  h509b78c_1          conda-forge/linux-64      308 KB\n",
      "\u001b[31m  - gst-plugins-base       \u001b[00m        1.18.5  hf529b03_3          installed                       \n",
      "\u001b[32m  + gst-plugins-base       \u001b[00m        1.20.1  hcf0ee16_1          conda-forge/linux-64        3 MB\n",
      "\u001b[31m  - gstreamer              \u001b[00m        1.18.5  h9f60fe5_3          installed                       \n",
      "\u001b[32m  + gstreamer              \u001b[00m        1.20.1  hd4edc92_1          conda-forge/linux-64        2 MB\n",
      "\u001b[31m  - icu                    \u001b[00m          68.2  h9c3ff4c_0          installed                       \n",
      "\u001b[32m  + icu                    \u001b[00m          69.1  h9c3ff4c_0          conda-forge/linux-64       13 MB\n",
      "\u001b[31m  - libclang               \u001b[00m        11.1.0  default_ha53f305_1  installed                       \n",
      "\u001b[32m  + libclang               \u001b[00m        13.0.1  default_hc23dcda_0  conda-forge/linux-64       11 MB\n",
      "\u001b[31m  - libcurl                \u001b[00m        7.81.0  h2574ce0_0          installed                       \n",
      "\u001b[32m  + libcurl                \u001b[00m        7.82.0  h7bff187_0          conda-forge/linux-64      341 KB\n",
      "\u001b[31m  - libgdal                \u001b[00m         3.3.3  h356f897_0          installed                       \n",
      "\u001b[32m  + libgdal                \u001b[00m         3.4.2  hd724a2d_4          conda-forge/linux-64       14 MB\n",
      "\u001b[31m  - libnghttp2             \u001b[00m        1.43.0  h812cca2_1          installed                       \n",
      "\u001b[32m  + libnghttp2             \u001b[00m        1.47.0  h727a467_0          conda-forge/linux-64      808 KB\n",
      "\u001b[31m  - libpq                  \u001b[00m          13.5  hd57d9b9_1          installed                       \n",
      "\u001b[32m  + libpq                  \u001b[00m          14.2  hd57d9b9_0          conda-forge/linux-64        3 MB\n",
      "\u001b[31m  - ncurses                \u001b[00m           6.2  h58526e2_4          installed                       \n",
      "\u001b[32m  + ncurses                \u001b[00m           6.3  h27087fc_1          conda-forge/linux-64     1002 KB\n",
      "\u001b[31m  - nodejs                 \u001b[00m       14.17.4  h92b4a50_0          installed                       \n",
      "\u001b[32m  + nodejs                 \u001b[00m        17.1.0  h8ca31f7_2          conda-forge/linux-64       15 MB\n",
      "\u001b[31m  - openssl                \u001b[00m        1.1.1l  h7f98852_0          installed                       \n",
      "\u001b[32m  + openssl                \u001b[00m        1.1.1n  h166bdaf_0          conda-forge/linux-64        2 MB\n",
      "\u001b[31m  - poppler                \u001b[00m       21.09.0  ha39eefc_3          installed                       \n",
      "\u001b[32m  + poppler                \u001b[00m       22.01.0  h1434ded_1          conda-forge/linux-64       18 MB\n",
      "\u001b[31m  - postgresql             \u001b[00m          13.5  h2510834_1          installed                       \n",
      "\u001b[32m  + postgresql             \u001b[00m          14.2  h2510834_0          conda-forge/linux-64        6 MB\n",
      "\u001b[31m  - proj                   \u001b[00m         8.1.1  h277dcde_2          installed                       \n",
      "\u001b[32m  + proj                   \u001b[00m         9.0.0  h93bde94_1          conda-forge/linux-64        3 MB\n",
      "\u001b[31m  - pyproj                 \u001b[00m         3.2.1  py39ha81a305_2      installed                       \n",
      "\u001b[32m  + pyproj                 \u001b[00m         3.3.0  py39hcadae2f_2      conda-forge/linux-64      477 KB\n",
      "\u001b[31m  - shapely                \u001b[00m         1.7.1  py39ha61afbd_5      installed                       \n",
      "\u001b[32m  + shapely                \u001b[00m         1.8.0  py39ha65c37e_5      conda-forge/linux-64      981 KB\n",
      "\u001b[31m  - sqlite                 \u001b[00m        3.37.0  h9cd32fc_0          installed                       \n",
      "\u001b[32m  + sqlite                 \u001b[00m        3.37.1  h4ff8645_0          conda-forge/linux-64        2 MB\n",
      "\u001b[31m  - tiledb                 \u001b[00m         2.3.4  he87e0bf_0          installed                       \n",
      "\u001b[32m  + tiledb                 \u001b[00m         2.7.2  h1e4a385_0          conda-forge/linux-64        3 MB\n",
      "\u001b[31m  - zstd                   \u001b[00m         1.5.1  ha95c52a_0          installed                       \n",
      "\u001b[32m  + zstd                   \u001b[00m         1.5.2  ha95c52a_0          conda-forge/linux-64      458 KB\n",
      "\n",
      "  Summary:\n",
      "\n",
      "  Install: 5 packages\n",
      "  Change: 13 packages\n",
      "  Upgrade: 25 packages\n",
      "\n",
      "  Total download: 303 MB\n",
      "\n",
      "─────────────────────────────────────────────────────────────────────────────────────────────────\n",
      "\n",
      "Preparing transaction: ...working... done\n",
      "Verifying transaction: ...working... done\n",
      "Executing transaction: ...working... done\n"
     ]
    }
   ],
   "source": [
    "! mamba install -qy fiona"
   ]
  },
  {
   "cell_type": "code",
   "execution_count": 16,
   "id": "fbfbd18f-960f-4af7-82a6-db8980a029b7",
   "metadata": {},
   "outputs": [],
   "source": [
    "import json\n",
    "import os\n",
    "from pathlib import Path\n",
    "import subprocess\n",
    "\n",
    "output: subprocess.CompletedProcess = subprocess.run([\"mamba\", \"list\", \"^proj\", \"--json\"], capture_output=True)\n",
    "proj_dist_name: str = json.loads(output.stdout)[0][\"dist_name\"]\n",
    "os.environ[\"PROJ_LIB\"]=f\"/opt/conda/pkgs/proj-{proj_dist_name}\""
   ]
  },
  {
   "cell_type": "code",
   "execution_count": 17,
   "id": "5341cba2-7772-4ad3-838d-b497512d988e",
   "metadata": {},
   "outputs": [],
   "source": [
    "import fiona\n",
    "from google.cloud.storage import Blob, Bucket, Client"
   ]
  },
  {
   "cell_type": "code",
   "execution_count": 18,
   "id": "574d11ba-aecc-4deb-adee-e22ccbec30bd",
   "metadata": {},
   "outputs": [],
   "source": [
    "gcp_project: str = \"global-water-watch\"\n",
    "gcp_bucket: str = \"global-water-watch\"\n",
    "\n",
    "os.environ[\"GCLOUD_PROJECT\"] = \"global-water-watch\"\n",
    "\n",
    "out_dir: Path = Path.cwd() / \"output\""
   ]
  },
  {
   "cell_type": "code",
   "execution_count": 19,
   "id": "861e2be1-87c4-4b51-91f1-a56f6751772f",
   "metadata": {},
   "outputs": [],
   "source": [
    "client: Client = Client()\n",
    "bucket: Bucket = Bucket(client, name=gcp_bucket, user_project=gcp_project)"
   ]
  },
  {
   "cell_type": "code",
   "execution_count": 20,
   "id": "b08bf669-49e5-4c74-94ff-4c86fa0b4ec8",
   "metadata": {},
   "outputs": [],
   "source": [
    "reservoir_dir: Path = out_dir / \"reservoirs\"\n",
    "blob: Blob = client.list_blobs(bucket, prefix=\"shp/reservoirs-v1.0\")\n",
    "for b in blob:\n",
    "    b.download_to_filename(reservoir_dir / b.name.split(\"/\")[-1])"
   ]
  },
  {
   "cell_type": "code",
   "execution_count": 98,
   "id": "f1a147f3-ead6-482a-a90b-058a225140f6",
   "metadata": {},
   "outputs": [],
   "source": [
    "shapes = fiona.open(reservoir_dir / \"reservoirs-v1.0.shp\")"
   ]
  },
  {
   "cell_type": "code",
   "execution_count": 100,
   "id": "fc3dfacb-a34b-40f3-8bb5-e247263ea592",
   "metadata": {},
   "outputs": [],
   "source": [
    "a = {}\n",
    "a.update({\"a\": 1})"
   ]
  },
  {
   "cell_type": "code",
   "execution_count": 102,
   "id": "1d99407f-a8ef-47c2-8773-86aa5c7eefb0",
   "metadata": {},
   "outputs": [],
   "source": [
    "from functools import reduce\n",
    "\n",
    "def process_shapes(collection: dict, shape: dict):\n",
    "    fid: int = int(shape[\"properties\"][\"fid\"])\n",
    "    s_type: str = shape[\"geometry\"][\"type\"]\n",
    "    coords: List = shape[\"geometry\"][\"coordinates\"]\n",
    "    if s_type == \"MultiPolygon\":\n",
    "        collection.update({fid: MultiPolygon([Polygon(c[0]) for c in coords])})\n",
    "    elif s_type == \"Polygon\":\n",
    "        collection.update({fid: Polygon(coords[0])})\n",
    "    return collection\n",
    "\n",
    "p_shapes = reduce(process_shapes, iter(shapes), {})"
   ]
  },
  {
   "cell_type": "code",
   "execution_count": 114,
   "id": "fb5a62c1-a99c-43f1-8d34-0d688774f947",
   "metadata": {},
   "outputs": [
    {
     "data": {
      "image/svg+xml": [
       "<svg xmlns=\"http://www.w3.org/2000/svg\" xmlns:xlink=\"http://www.w3.org/1999/xlink\" width=\"100.0\" height=\"100.0\" viewBox=\"77.39614272615393 23.241582196156678 0.01834352642151771 0.01390222444492295\" preserveAspectRatio=\"xMinYMin meet\"><g transform=\"matrix(1,0,0,-1,0,46.497066616758275)\"><path fill-rule=\"evenodd\" fill=\"#66cc99\" stroke=\"#555555\" stroke-width=\"0.00036687052843035415\" opacity=\"0.6\" d=\"M 77.39682211602138,23.250127442348518 L 77.39804392826292,23.251032650020694 L 77.40064805315545,23.250225575295552 L 77.40351967809478,23.250136347125892 L 77.4050848185117,23.2506759080893 L 77.40548610620418,23.251612354459063 L 77.40777364712991,23.25318196379011 L 77.40917382401986,23.254805030734136 L 77.41115364235921,23.25444385275667 L 77.41380686270799,23.252009164644193 L 77.41321819757093,23.25083644707305 L 77.41089056764478,23.25092563742959 L 77.41075675311261,23.249855482196782 L 77.40932095195417,23.248508774077614 L 77.40949934432302,23.247969233725076 L 77.40895978757113,23.24734055182673 L 77.40895978757113,23.24630597099017 L 77.40855395796157,23.245811081685627 L 77.40639578573449,23.244192433612568 L 77.40172715420753,23.242261586024142 L 77.40104488955667,23.24289921896095 L 77.40157992901842,23.244071974434906 L 77.40408597218499,23.246127651580466 L 77.40082190462672,23.24720226015488 L 77.39732152786121,23.249222242388853 L 77.39682211602138,23.250127442348518 z\" /></g></svg>"
      ],
      "text/plain": [
       "<shapely.geometry.polygon.Polygon at 0x7f0705b5b880>"
      ]
     },
     "execution_count": 114,
     "metadata": {},
     "output_type": "execute_result"
    }
   ],
   "source": [
    "p_shapes[60000]"
   ]
  }
 ],
 "metadata": {
  "kernelspec": {
   "display_name": "Python 3 (ipykernel)",
   "language": "python",
   "name": "python3"
  },
  "language_info": {
   "codemirror_mode": {
    "name": "ipython",
    "version": 3
   },
   "file_extension": ".py",
   "mimetype": "text/x-python",
   "name": "python",
   "nbconvert_exporter": "python",
   "pygments_lexer": "ipython3",
   "version": "3.9.7"
  }
 },
 "nbformat": 4,
 "nbformat_minor": 5
}
