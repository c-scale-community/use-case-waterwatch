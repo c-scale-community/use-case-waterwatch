{
 "cells": [
  {
   "cell_type": "markdown",
   "id": "b492bf6a-2cec-4a24-b3a2-06076754b2fb",
   "metadata": {},
   "source": [
    "# Getting reservoirs from the GWW project\n",
    "\n",
    "either by hand:"
   ]
  },
  {
   "cell_type": "code",
   "execution_count": 16,
   "id": "fbfbd18f-960f-4af7-82a6-db8980a029b7",
   "metadata": {},
   "outputs": [],
   "source": [
    "import json\n",
    "import os\n",
    "from pathlib import Path\n",
    "import subprocess\n",
    "\n",
    "output: subprocess.CompletedProcess = subprocess.run([\"mamba\", \"list\", \"^proj\", \"--json\"], capture_output=True)\n",
    "proj_dist_name: str = json.loads(output.stdout)[0][\"dist_name\"]\n",
    "os.environ[\"PROJ_LIB\"]=f\"/opt/conda/pkgs/proj-{proj_dist_name}\""
   ]
  },
  {
   "cell_type": "code",
   "execution_count": 17,
   "id": "5341cba2-7772-4ad3-838d-b497512d988e",
   "metadata": {},
   "outputs": [],
   "source": [
    "import fiona\n",
    "from google.cloud.storage import Blob, Bucket, Client"
   ]
  },
  {
   "cell_type": "code",
   "execution_count": 18,
   "id": "574d11ba-aecc-4deb-adee-e22ccbec30bd",
   "metadata": {},
   "outputs": [],
   "source": [
    "gcp_project: str = \"global-water-watch\"\n",
    "gcp_bucket: str = \"global-water-watch\"\n",
    "\n",
    "os.environ[\"GCLOUD_PROJECT\"] = \"global-water-watch\"\n",
    "\n",
    "out_dir: Path = Path.cwd() / \"output\""
   ]
  },
  {
   "cell_type": "code",
   "execution_count": 19,
   "id": "861e2be1-87c4-4b51-91f1-a56f6751772f",
   "metadata": {},
   "outputs": [],
   "source": [
    "client: Client = Client()\n",
    "bucket: Bucket = Bucket(client, name=gcp_bucket, user_project=gcp_project)"
   ]
  },
  {
   "cell_type": "code",
   "execution_count": 20,
   "id": "b08bf669-49e5-4c74-94ff-4c86fa0b4ec8",
   "metadata": {},
   "outputs": [],
   "source": [
    "reservoir_dir: Path = out_dir / \"reservoirs\"\n",
    "blob: Blob = client.list_blobs(bucket, prefix=\"shp/reservoirs-v1.0\")\n",
    "for b in blob:\n",
    "    b.download_to_filename(reservoir_dir / b.name.split(\"/\")[-1])"
   ]
  },
  {
   "cell_type": "code",
   "execution_count": 98,
   "id": "f1a147f3-ead6-482a-a90b-058a225140f6",
   "metadata": {},
   "outputs": [],
   "source": [
    "shapes = fiona.open(reservoir_dir / \"reservoirs-v1.0.shp\")"
   ]
  },
  {
   "cell_type": "code",
   "execution_count": 115,
   "id": "8bcea970-5ed3-4d67-b721-0a082ed892a7",
   "metadata": {},
   "outputs": [
    {
     "data": {
      "text/plain": [
       "{'type': 'Feature',\n",
       " 'id': '0',\n",
       " 'properties': OrderedDict([('fid', 1.0),\n",
       "              ('source_nam', 'osm_way'),\n",
       "              ('source_id', 338083400),\n",
       "              ('name', None),\n",
       "              ('name_en', None),\n",
       "              ('grand_id', None)]),\n",
       " 'geometry': {'type': 'MultiPolygon',\n",
       "  'coordinates': [[[(-84.09436956043794, 30.862290117978194),\n",
       "     (-84.09470847929936, 30.862160730823835),\n",
       "     (-84.09493144271363, 30.86224107162828),\n",
       "     (-84.09492701085038, 30.862713663736457),\n",
       "     (-84.09476641602296, 30.86277164651669),\n",
       "     (-84.09475303981634, 30.86233019394484),\n",
       "     (-84.09436956043794, 30.862290117978194)]],\n",
       "   [[(-84.09436956043794, 30.862290117978194),\n",
       "     (-84.09436956043794, 30.862606652340492),\n",
       "     (-84.09474860793998, 30.86280287289627),\n",
       "     (-84.09431605524152, 30.862856412041136),\n",
       "     (-84.09419123645864, 30.862695864357537),\n",
       "     (-84.09412435475791, 30.862521980368165),\n",
       "     (-84.09436956043794, 30.862290117978194)]]]}}"
      ]
     },
     "execution_count": 115,
     "metadata": {},
     "output_type": "execute_result"
    }
   ],
   "source": [
    "next(iter(shapes))"
   ]
  },
  {
   "cell_type": "code",
   "execution_count": 102,
   "id": "1d99407f-a8ef-47c2-8773-86aa5c7eefb0",
   "metadata": {},
   "outputs": [],
   "source": [
    "from functools import reduce\n",
    "\n",
    "def process_shapes(collection: dict, shape: dict):\n",
    "    fid: int = int(shape[\"properties\"][\"fid\"])\n",
    "    s_type: str = shape[\"geometry\"][\"type\"]\n",
    "    coords: List = shape[\"geometry\"][\"coordinates\"]\n",
    "    if s_type == \"MultiPolygon\":\n",
    "        collection.update({fid: MultiPolygon([Polygon(c[0]) for c in coords])})\n",
    "    elif s_type == \"Polygon\":\n",
    "        collection.update({fid: Polygon(coords[0])})\n",
    "    return collection\n",
    "\n",
    "p_shapes = reduce(process_shapes, iter(shapes), {})"
   ]
  },
  {
   "cell_type": "code",
   "execution_count": 114,
   "id": "fb5a62c1-a99c-43f1-8d34-0d688774f947",
   "metadata": {},
   "outputs": [
    {
     "data": {
      "image/svg+xml": [
       "<svg xmlns=\"http://www.w3.org/2000/svg\" xmlns:xlink=\"http://www.w3.org/1999/xlink\" width=\"100.0\" height=\"100.0\" viewBox=\"77.39614272615393 23.241582196156678 0.01834352642151771 0.01390222444492295\" preserveAspectRatio=\"xMinYMin meet\"><g transform=\"matrix(1,0,0,-1,0,46.497066616758275)\"><path fill-rule=\"evenodd\" fill=\"#66cc99\" stroke=\"#555555\" stroke-width=\"0.00036687052843035415\" opacity=\"0.6\" d=\"M 77.39682211602138,23.250127442348518 L 77.39804392826292,23.251032650020694 L 77.40064805315545,23.250225575295552 L 77.40351967809478,23.250136347125892 L 77.4050848185117,23.2506759080893 L 77.40548610620418,23.251612354459063 L 77.40777364712991,23.25318196379011 L 77.40917382401986,23.254805030734136 L 77.41115364235921,23.25444385275667 L 77.41380686270799,23.252009164644193 L 77.41321819757093,23.25083644707305 L 77.41089056764478,23.25092563742959 L 77.41075675311261,23.249855482196782 L 77.40932095195417,23.248508774077614 L 77.40949934432302,23.247969233725076 L 77.40895978757113,23.24734055182673 L 77.40895978757113,23.24630597099017 L 77.40855395796157,23.245811081685627 L 77.40639578573449,23.244192433612568 L 77.40172715420753,23.242261586024142 L 77.40104488955667,23.24289921896095 L 77.40157992901842,23.244071974434906 L 77.40408597218499,23.246127651580466 L 77.40082190462672,23.24720226015488 L 77.39732152786121,23.249222242388853 L 77.39682211602138,23.250127442348518 z\" /></g></svg>"
      ],
      "text/plain": [
       "<shapely.geometry.polygon.Polygon at 0x7f0705b5b880>"
      ]
     },
     "execution_count": 114,
     "metadata": {},
     "output_type": "execute_result"
    }
   ],
   "source": [
    "p_shapes[60000]"
   ]
  },
  {
   "cell_type": "markdown",
   "id": "40204ecd-b91f-4985-8592-20780c14eb27",
   "metadata": {},
   "source": [
    "# With class:"
   ]
  },
  {
   "cell_type": "code",
   "execution_count": 1,
   "id": "385a2bda-6fda-4475-bfb0-c75ec19ce345",
   "metadata": {},
   "outputs": [],
   "source": [
    "from utils import Reservoir\n",
    "from pathlib import Path\n",
    "\n",
    "reservoir_dir: Path = Path.cwd() / \"output\" / \"reservoirs\"\n",
    "reservoirs = Reservoir.from_gcp(reservoir_dir)"
   ]
  },
  {
   "cell_type": "code",
   "execution_count": 2,
   "id": "062e1e18-9fd6-4600-822c-e2b124371a42",
   "metadata": {},
   "outputs": [
    {
     "data": {
      "image/svg+xml": [
       "<svg xmlns=\"http://www.w3.org/2000/svg\" xmlns:xlink=\"http://www.w3.org/1999/xlink\" width=\"100.0\" height=\"100.0\" viewBox=\"77.39614272615393 23.241582196156678 0.01834352642151771 0.01390222444492295\" preserveAspectRatio=\"xMinYMin meet\"><g transform=\"matrix(1,0,0,-1,0,46.497066616758275)\"><path fill-rule=\"evenodd\" fill=\"#66cc99\" stroke=\"#555555\" stroke-width=\"0.00036687052843035415\" opacity=\"0.6\" d=\"M 77.39682211602138,23.250127442348518 L 77.39804392826292,23.251032650020694 L 77.40064805315545,23.250225575295552 L 77.40351967809478,23.250136347125892 L 77.4050848185117,23.2506759080893 L 77.40548610620418,23.251612354459063 L 77.40777364712991,23.25318196379011 L 77.40917382401986,23.254805030734136 L 77.41115364235921,23.25444385275667 L 77.41380686270799,23.252009164644193 L 77.41321819757093,23.25083644707305 L 77.41089056764478,23.25092563742959 L 77.41075675311261,23.249855482196782 L 77.40932095195417,23.248508774077614 L 77.40949934432302,23.247969233725076 L 77.40895978757113,23.24734055182673 L 77.40895978757113,23.24630597099017 L 77.40855395796157,23.245811081685627 L 77.40639578573449,23.244192433612568 L 77.40172715420753,23.242261586024142 L 77.40104488955667,23.24289921896095 L 77.40157992901842,23.244071974434906 L 77.40408597218499,23.246127651580466 L 77.40082190462672,23.24720226015488 L 77.39732152786121,23.249222242388853 L 77.39682211602138,23.250127442348518 z\" /></g></svg>"
      ],
      "text/plain": [
       "<shapely.geometry.polygon.Polygon at 0x7fb7ce6ba820>"
      ]
     },
     "execution_count": 2,
     "metadata": {},
     "output_type": "execute_result"
    }
   ],
   "source": [
    "next(filter(lambda r: r.fid() == 60000, reservoirs)).geometry"
   ]
  }
 ],
 "metadata": {
  "kernelspec": {
   "display_name": "Python 3 (ipykernel)",
   "language": "python",
   "name": "python3"
  },
  "language_info": {
   "codemirror_mode": {
    "name": "ipython",
    "version": 3
   },
   "file_extension": ".py",
   "mimetype": "text/x-python",
   "name": "python",
   "nbconvert_exporter": "python",
   "pygments_lexer": "ipython3",
   "version": "3.9.7"
  }
 },
 "nbformat": 4,
 "nbformat_minor": 5
}
