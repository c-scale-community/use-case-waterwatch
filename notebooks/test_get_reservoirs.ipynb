{
 "cells": [
  {
   "cell_type": "markdown",
   "id": "b492bf6a-2cec-4a24-b3a2-06076754b2fb",
   "metadata": {},
   "source": [
    "# Getting reservoirs from the GWW project\n",
    "\n",
    "either by hand:"
   ]
  },
  {
   "cell_type": "code",
   "execution_count": null,
   "id": "fbfbd18f-960f-4af7-82a6-db8980a029b7",
   "metadata": {},
   "outputs": [],
   "source": [
    "import json\n",
    "import os\n",
    "from pathlib import Path\n",
    "import subprocess\n",
    "\n",
    "output: subprocess.CompletedProcess = subprocess.run([\"mamba\", \"list\", \"^proj\", \"--json\"], capture_output=True)\n",
    "proj_dist_name: str = json.loads(output.stdout)[0][\"dist_name\"]\n",
    "os.environ[\"PROJ_LIB\"]=f\"/opt/conda/pkgs/proj-{proj_dist_name}\""
   ]
  },
  {
   "cell_type": "code",
   "execution_count": null,
   "id": "5341cba2-7772-4ad3-838d-b497512d988e",
   "metadata": {},
   "outputs": [],
   "source": [
    "import fiona\n",
    "from google.cloud.storage import Blob, Bucket, Client"
   ]
  },
  {
   "cell_type": "code",
   "execution_count": null,
   "id": "574d11ba-aecc-4deb-adee-e22ccbec30bd",
   "metadata": {},
   "outputs": [],
   "source": [
    "gcp_project: str = \"global-water-watch\"\n",
    "gcp_bucket: str = \"global-water-watch\"\n",
    "\n",
    "os.environ[\"GCLOUD_PROJECT\"] = \"global-water-watch\"\n",
    "\n",
    "out_dir: Path = Path.cwd() / \"output\""
   ]
  },
  {
   "cell_type": "code",
   "execution_count": null,
   "id": "861e2be1-87c4-4b51-91f1-a56f6751772f",
   "metadata": {},
   "outputs": [],
   "source": [
    "client: Client = Client()\n",
    "bucket: Bucket = Bucket(client, name=gcp_bucket, user_project=gcp_project)"
   ]
  },
  {
   "cell_type": "code",
   "execution_count": null,
   "id": "b08bf669-49e5-4c74-94ff-4c86fa0b4ec8",
   "metadata": {},
   "outputs": [],
   "source": [
    "reservoir_dir: Path = out_dir / \"reservoirs\"\n",
    "blob: Blob = client.list_blobs(bucket, prefix=\"shp/reservoirs-v1.0\")\n",
    "for b in blob:\n",
    "    b.download_to_filename(reservoir_dir / b.name.split(\"/\")[-1])"
   ]
  },
  {
   "cell_type": "code",
   "execution_count": null,
   "id": "f1a147f3-ead6-482a-a90b-058a225140f6",
   "metadata": {},
   "outputs": [],
   "source": [
    "shapes = fiona.open(reservoir_dir / \"reservoirs-v1.0.shp\")"
   ]
  },
  {
   "cell_type": "code",
   "execution_count": null,
   "id": "8bcea970-5ed3-4d67-b721-0a082ed892a7",
   "metadata": {},
   "outputs": [],
   "source": [
    "next(iter(shapes))"
   ]
  },
  {
   "cell_type": "code",
   "execution_count": null,
   "id": "1d99407f-a8ef-47c2-8773-86aa5c7eefb0",
   "metadata": {},
   "outputs": [],
   "source": [
    "from functools import reduce\n",
    "\n",
    "def process_shapes(collection: dict, shape: dict):\n",
    "    fid: int = int(shape[\"properties\"][\"fid\"])\n",
    "    s_type: str = shape[\"geometry\"][\"type\"]\n",
    "    coords: List = shape[\"geometry\"][\"coordinates\"]\n",
    "    if s_type == \"MultiPolygon\":\n",
    "        collection.update({fid: MultiPolygon([Polygon(c[0]) for c in coords])})\n",
    "    elif s_type == \"Polygon\":\n",
    "        collection.update({fid: Polygon(coords[0])})\n",
    "    return collection\n",
    "\n",
    "p_shapes = reduce(process_shapes, iter(shapes), {})"
   ]
  },
  {
   "cell_type": "code",
   "execution_count": null,
   "id": "fb5a62c1-a99c-43f1-8d34-0d688774f947",
   "metadata": {},
   "outputs": [],
   "source": [
    "p_shapes[60000]"
   ]
  },
  {
   "cell_type": "markdown",
   "id": "40204ecd-b91f-4985-8592-20780c14eb27",
   "metadata": {},
   "source": [
    "# With class:"
   ]
  },
  {
   "cell_type": "code",
   "execution_count": null,
   "id": "385a2bda-6fda-4475-bfb0-c75ec19ce345",
   "metadata": {},
   "outputs": [],
   "source": [
    "from utils import Reservoir\n",
    "from pathlib import Path\n",
    "\n",
    "reservoir_dir: Path = Path.cwd() / \"output\" / \"reservoirs\"\n",
    "reservoirs = Reservoir.from_gcp(reservoir_dir)"
   ]
  },
  {
   "cell_type": "code",
   "execution_count": null,
   "id": "4b076fb4-691b-4f59-a330-a21711173a70",
   "metadata": {},
   "outputs": [],
   "source": [
    "import geojson\n",
    "import shapely\n",
    "\n",
    "geojson.MultiPolygon(shapely.geometry.mapping(next(filter(lambda r: r.fid() == 1, reservoirs)).geometry)[\"coordinates\"])[\"coordinates\"]"
   ]
  },
  {
   "cell_type": "code",
   "execution_count": null,
   "id": "062e1e18-9fd6-4600-822c-e2b124371a42",
   "metadata": {},
   "outputs": [],
   "source": [
    "next(filter(lambda r: r.fid() == 1, reservoirs)).geometry.wkt"
   ]
  },
  {
   "cell_type": "markdown",
   "id": "1cc98f7d-6764-4ca2-8dd6-689e9d824eb0",
   "metadata": {},
   "source": [
    "# Filter all reservoirs within bbox\n",
    "\n",
    "For the workflow in mind, we want to filter all reservoirs within the bounding box of the area selected.\n",
    "Getting the reservoir in question: https://code.earthengine.google.com/bf5e67d0efc01b434ddc23c0db74e642"
   ]
  },
  {
   "cell_type": "code",
   "execution_count": null,
   "id": "145c7abf-6ffb-49f0-979c-e6a3a8227516",
   "metadata": {},
   "outputs": [],
   "source": [
    "import geojson\n",
    "from shapely.geometry import MultiPolygon, Polygon\n",
    "\n",
    "shapely_polygon_chzech = Polygon([[12.09,51.06],[12.09, 48.55], [18.87,48.55], [18.87, 51.06], [12.09,51.06]])\n",
    "geojson_str = \"{\\\"type\\\":\\\"Polygon\\\",\\\"coordinates\\\":[[[16.258372886421807,49.561646293673824],[16.314909857006697,49.561646293673824],[16.314909857006697,49.58980547068479],[16.258372886421807,49.58980547068479],[16.258372886421807,49.561646293673824]]],\\\"geodesic\\\":false}\"\n",
    "bbox: geojson.Polygon = geojson.loads(geojson_str)\n",
    "shapely_polygon = Polygon(bbox.coordinates[0]).buffer(0.001)  # need to slightly buffer to contain reservoir\n",
    "\n",
    "selected = list(filter(lambda r: shapely_polygon.covers(r.geometry), reservoirs))"
   ]
  },
  {
   "cell_type": "code",
   "execution_count": null,
   "id": "713a335f-90a2-4ee6-a6fd-6cdedead126f",
   "metadata": {},
   "outputs": [],
   "source": [
    "len(selected)"
   ]
  },
  {
   "cell_type": "code",
   "execution_count": null,
   "id": "295d7937-4caf-4e22-88e5-e1f2a4e6ef97",
   "metadata": {},
   "outputs": [],
   "source": [
    "selected[0].geometry"
   ]
  }
 ],
 "metadata": {
  "kernelspec": {
   "display_name": "Python 3 (ipykernel)",
   "language": "python",
   "name": "python3"
  },
  "language_info": {
   "codemirror_mode": {
    "name": "ipython",
    "version": 3
   },
   "file_extension": ".py",
   "mimetype": "text/x-python",
   "name": "python",
   "nbconvert_exporter": "python",
   "pygments_lexer": "ipython3",
   "version": "3.9.7"
  }
 },
 "nbformat": 4,
 "nbformat_minor": 5
}
