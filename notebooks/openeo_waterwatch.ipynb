{
 "cells": [
  {
   "cell_type": "markdown",
   "id": "0a024f66-5bd0-4241-a8c2-25dd38abffb4",
   "metadata": {},
   "source": [
    "# Water Watch using OpenEO\n",
    "\n",
    "In this notebook, we re-implement the algorithm from [Global Water Watch](https://www.globalwaterwatch.io/) using [OpenEO](https://openeo.org/). In this notebook we will run the notebook for the same area as the [earthengine notebook](./ee_waterwatch) to compare results."
   ]
  },
  {
   "cell_type": "code",
   "execution_count": null,
   "id": "a56e476a-58a9-451f-8022-3c236abe4b57",
   "metadata": {
    "tags": []
   },
   "outputs": [],
   "source": [
    "# imports\n",
    "from typing import List, Dict, Tuple, Union\n",
    "from pathlib import Path\n",
    "\n",
    "import geojson\n",
    "from openeo import connect, Connection\n",
    "from openeo.rest.datacube import DataCube\n",
    "from pyproj import CRS, Proj, Transformer\n",
    "from pyproj.aoi import AreaOfInterest\n",
    "from shapely.geometry import MultiPolygon, Polygon\n",
    "from shapely.ops import transform\n",
    "\n",
    "from utils import Reservoir"
   ]
  },
  {
   "cell_type": "code",
   "execution_count": null,
   "id": "816f2276-09ba-4acf-8f8e-139ba195d9eb",
   "metadata": {
    "tags": []
   },
   "outputs": [],
   "source": [
    "# Connect to backend:\n",
    "openeo_platform_url: str = \"openeo.cloud\"\n",
    "vito_url: str = \"https://openeo.vito.be/openeo/1.1\"\n",
    "vito_dev_url: str = \"openeo-dev.vito.be\"\n",
    "\n",
    "backend_url = vito_url\n",
    "\n",
    "con: Connection = connect(backend_url)\n",
    "con.authenticate_oidc(provider_id=\"egi\")\n",
    "\n",
    "debug = True\n",
    "\n",
    "out_dir: Path = Path(\"output\")\n",
    "out_dir.mkdir(parents=True, exist_ok=True)"
   ]
  },
  {
   "cell_type": "code",
   "execution_count": null,
   "id": "5af80d51-0617-4791-8c0a-6101eb98805b",
   "metadata": {
    "tags": []
   },
   "outputs": [],
   "source": [
    "# Find Level 1C product of Sentinel 2 mission\n",
    "collections = con.list_collections()\n",
    "if backend_url == vito_url or vito_dev_url:\n",
    "    collection_id = \"SENTINEL2_L1C_SENTINELHUB\"\n",
    "elif backend_url == openeo_platform_url:\n",
    "    collection_id = \"SENTINEL2_L1C\"\n",
    "con.describe_collection(collection_id)"
   ]
  },
  {
   "cell_type": "code",
   "execution_count": null,
   "id": "45ad93a7-2357-4cb5-8a0c-01ad8b8210ba",
   "metadata": {
    "tags": []
   },
   "outputs": [],
   "source": [
    "# Get reservoirs from database\n",
    "reservoir_dir: Path = out_dir / \"reservoirs\"\n",
    "reservoir_dir.mkdir(exist_ok=True)\n",
    "\n",
    "reservoirs: List[Reservoir] = Reservoir.from_gcp(reservoir_dir)"
   ]
  },
  {
   "cell_type": "markdown",
   "id": "e7150552-9d39-42ba-b3ca-839231992e86",
   "metadata": {
    "tags": []
   },
   "source": [
    "## Setup AoI and parameters\n",
    "Eventually we will run the algorithm based on a certain spatial and temporal extent. There are more parameters used in the algorithm that can be finetuned later on. We therefore collect all relevant parameters in the beginning of the notebook.\n",
    "We want to load the data from the backend. For visualization options, we want to load RGB. We load swir16 for the NDWI product as well, as well as nir for some NDVI filters that are applied later on.\n",
    "\n",
    "In case of debug, we just take the bounding box of one of the reservoirs in Chzechia that show seasonal variation and extend it so that the reservoirs fit.\n",
    "Otherwise the entirety of Chzechia is used."
   ]
  },
  {
   "cell_type": "code",
   "execution_count": null,
   "id": "19bddc32-a9cb-4964-b2e6-aa54e7a235c1",
   "metadata": {
    "tags": []
   },
   "outputs": [],
   "source": [
    "import math\n",
    "\n",
    "def get_utm_zone(lon: float) -> int:\n",
    "    return math.ceil((180 + lon) / 6)"
   ]
  },
  {
   "cell_type": "code",
   "execution_count": null,
   "id": "26d19d80-0380-4a32-ae6d-40a5d389e8ef",
   "metadata": {
    "tags": []
   },
   "outputs": [],
   "source": [
    "if debug:\n",
    "    geojson_str = \"{\\\"type\\\":\\\"Polygon\\\",\\\"coordinates\\\":[[[16.258372886421807,49.561646293673824],[16.314909857006697,49.561646293673824],[16.314909857006697,49.58980547068479],[16.258372886421807,49.58980547068479],[16.258372886421807,49.561646293673824]]],\\\"geodesic\\\":false}\"\n",
    "    gjson: geojson.Polygon = geojson.loads(geojson_str)\n",
    "    bbox = Polygon(gjson.coordinates[0])\n",
    "else:\n",
    "    # entire chzechia\n",
    "    bbox = Polygon([[12.09,51.06],[12.09, 48.55], [18.87,48.55], [18.87, 51.06], [12.09,51.06]])\n",
    "\n",
    "# convert bbox polygon to utm zone\n",
    "wgs84: CRS = CRS('EPSG:4326')\n",
    "utm_zone: int = get_utm_zone(min(bbox.exterior.xy[0]))\n",
    "utm: CRS = CRS(proj='utm', zone=utm_zone)\n",
    "project_to_utm: Transformer = Transformer.from_crs(wgs84, utm, always_xy=True)\n",
    "project_to_latlon: Transformer = Transformer.from_crs(utm, wgs84, always_xy=True)\n",
    "\n",
    "bbox_utm = transform(project_to_utm.transform, bbox)\n",
    "if debug:\n",
    "    # transform and buffer 1km so all imagery plus buffers is loaded.\n",
    "    bbox_utm = bbox_utm.buffer(1000.)\n",
    "    bbox = transform(project_to_latlon.transform, bbox_utm)\n",
    "\n",
    "band_names = [\"green\", \"nir\", \"swir\", \"cloudmask\", \"cloudp\"]\n",
    "band_codes = [\"B03\", \"B08\", \"B11\", \"CLM\", \"CLP\"]\n",
    "\n",
    "# after crs transform, we get a distorted box, take extremities as bbox\n",
    "xys = bbox_utm.exterior.coords.xy\n",
    "bbox_openeo = {\n",
    "    \"west\": min(xys[0]),\n",
    "    \"east\": max(xys[0]),\n",
    "    \"south\": min(xys[1]),\n",
    "    \"north\": max(xys[1]),\n",
    "    \"crs\": \":\".join(utm.to_authority())\n",
    "}\n",
    "\n",
    "print(f\"openeo spatial extent: {bbox_openeo}\")\n",
    "print(f\"UTM zone: {utm_zone}\")\n",
    "if debug:\n",
    "    start = \"2021-05-01\"\n",
    "    stop = \"2021-08-01\"\n",
    "else:\n",
    "    start = \"2017-04-01\"\n",
    "    stop = \"2021-01-01\""
   ]
  },
  {
   "cell_type": "markdown",
   "id": "b38eb195-2070-4a74-81e0-bf631b31c880",
   "metadata": {},
   "source": [
    "## Buffer reservoirs using 300m buffer\n",
    "In order to pickup on flooding / high water levels, we buffer the reservoirs using a 300m buffer. As the AoI needs to be given to the `chunk_polygon` method, we this this locally and not on the cluster."
   ]
  },
  {
   "cell_type": "code",
   "execution_count": null,
   "id": "b68c8bdc-61b4-484b-9d27-581b40655b7f",
   "metadata": {
    "tags": []
   },
   "outputs": [],
   "source": [
    "# Select reservoirs within bbox and buffer 300m\n",
    "from copy import copy\n",
    "\n",
    "def buffer_in_utm(reservoir, buffer_m):\n",
    "    try:\n",
    "        new_res = copy(reservoir)\n",
    "        bounds = new_res.geometry.bounds\n",
    "        min_lon = bounds[0]\n",
    "        _utm_zone: int = get_utm_zone(min_lon)\n",
    "        if abs(_utm_zone - utm_zone) > 1:\n",
    "            # If not close to utm zone, then not in AoI\n",
    "            return None\n",
    "        buffered_geom = transform(project_to_utm.transform, new_res.geometry).buffer(buffer_m, 1)\n",
    "        latlon_geom = transform(project_to_latlon.transform, buffered_geom)\n",
    "        new_res.geometry = latlon_geom\n",
    "    except ValueError as e:\n",
    "        print(reservoir.geometry.wkt)\n",
    "    return new_res\n",
    "    \n",
    "\n",
    "selected = list(\n",
    "    filter(lambda r: bbox.covers(r.geometry),\n",
    "    filter(lambda r: r is not None,\n",
    "    map(lambda r: buffer_in_utm(r, 300.),\n",
    "        reservoirs\n",
    "    )))\n",
    ")\n",
    "selected_mp = MultiPolygon(list(map(lambda s: s.geometry, selected)))\n",
    "selected[0].geometry"
   ]
  },
  {
   "cell_type": "markdown",
   "id": "d08d70ca-78b3-46df-8d7e-86f5bce075be",
   "metadata": {
    "tags": []
   },
   "source": [
    "## Load optical data\n",
    "Load optical data using parameters declared above. Altough the Waterwatch algorithm uses Landsat 7 & 8 missions as well as Sentinel 2, we just use Sentinel-2 here for simplicity."
   ]
  },
  {
   "cell_type": "code",
   "execution_count": null,
   "id": "8bbb6b4b-6527-49b9-a86f-b51b79373074",
   "metadata": {
    "tags": []
   },
   "outputs": [],
   "source": [
    "dc_optical: DataCube = con.load_collection(\n",
    "        collection_id=collection_id,\n",
    "        spatial_extent=bbox_openeo,\n",
    "        temporal_extent=(start, stop),\n",
    "        bands=band_codes\n",
    "    ).rename_labels(dimension=\"bands\", source=band_codes, target=band_names)"
   ]
  },
  {
   "cell_type": "markdown",
   "id": "5f656bc7-8519-42ab-98f6-24f701f2c108",
   "metadata": {},
   "source": [
    "## Filter optical data\n",
    "Filtering happens in two steps:\n",
    "1. Filter based on the cloud coverage percentage band (CLP) in the Sentinel-2 dataset. Calculate the percentile cloud chance in the AoI per image, and filter the top x percentile based on the percentile cloud expected in that area. For Chzechia we take a 35% percentile based on the MODIS cloud occurrence dataset.\n",
    "2. In the AoI, calculate the data coverage per image, then filter images with too little coverage."
   ]
  },
  {
   "cell_type": "markdown",
   "id": "5bca44f1-0384-46f8-87f5-bf9dc4c19c3a",
   "metadata": {},
   "source": [
    "### filter on cloud percentages"
   ]
  },
  {
   "cell_type": "code",
   "execution_count": null,
   "id": "6a88fc29-06fa-425e-8937-0863f12653ab",
   "metadata": {
    "tags": []
   },
   "outputs": [],
   "source": [
    "def load_udf(path: Path):\n",
    "    with open(path, 'r+') as f:\n",
    "        return f.read()\n",
    "\n",
    "udf_path: Path = Path.cwd().parent / \"udfs\" / \"filter_mostly_clean_images.py\"\n",
    "quality_score_udf = load_udf(udf_path)"
   ]
  },
  {
   "cell_type": "code",
   "execution_count": null,
   "id": "8cfb80cf-e2e6-4236-8af5-b3c796620228",
   "metadata": {
    "tags": []
   },
   "outputs": [],
   "source": [
    "from shapely.geometry.base import BaseGeometry\n",
    "\n",
    "def filter_mostly_clean_images(\n",
    "    dc: DataCube,\n",
    "    geometry: BaseGeometry,\n",
    "    quality_score_udf: str,\n",
    "    cutoff_percentile: int = 35,\n",
    "    score_percentile: int = 75,\n",
    "    quality_band: str = 'cloudp',\n",
    "    \n",
    ") -> DataCube:\n",
    "    \"\"\"\n",
    "    filters images based on cloud coverage percentile\n",
    "    \"\"\"\n",
    "    process = lambda data: data.run_udf(udf=quality_score_udf, runtime=\"Python\")\n",
    "    return dc.chunk_polygon(chunks=geometry, process=process, context={\n",
    "        \"cutoff_percentile\": cutoff_percentile,\n",
    "        \"quality_band\": quality_band,\n",
    "        \"score_percentile\": score_percentile\n",
    "    })\n",
    "\n",
    "filtered_dc: DataCube = filter_mostly_clean_images(dc_optical, selected_mp, quality_score_udf)"
   ]
  },
  {
   "cell_type": "markdown",
   "id": "b15d6d04-65f4-481a-a7eb-24069dc54dd6",
   "metadata": {
    "tags": []
   },
   "source": [
    "### Filter on area coverage"
   ]
  },
  {
   "cell_type": "code",
   "execution_count": null,
   "id": "3afbf6db-378c-4df0-b2f5-7442ce752f9e",
   "metadata": {
    "tags": []
   },
   "outputs": [],
   "source": [
    "def load_udf(path: Path):\n",
    "    with open(path, 'r+') as f:\n",
    "        return f.read()\n",
    "\n",
    "udf_path: Path = Path.cwd().parent / \"udfs\" / \"preprocess_polygons.py\"\n",
    "preprocess_polygons_udf = load_udf(udf_path)"
   ]
  },
  {
   "cell_type": "code",
   "execution_count": null,
   "id": "78b03fa4-0357-4cf0-a128-6c638680ae3a",
   "metadata": {
    "tags": []
   },
   "outputs": [],
   "source": [
    "def preprocess_polygons(\n",
    "    dc: DataCube,\n",
    "    geometry: BaseGeometry,\n",
    "    minimum_filled_fraction: int = 0.35,\n",
    "    quality_check_bands: List[str] = [\"green\", \"nir\", \"swir\"]\n",
    "    \n",
    ") -> DataCube:\n",
    "    \"\"\"\n",
    "    \n",
    "    \"\"\"\n",
    "    process = lambda data: data.run_udf(udf=preprocess_polygons_udf, runtime=\"Python\")\n",
    "    return dc.chunk_polygon(chunks=geometry, process=process, context={\n",
    "        \"minimum_filled_fraction\": minimum_filled_fraction,\n",
    "        \"quality_check_bands\": quality_check_bands\n",
    "    })\n",
    "\n",
    "preprocessed_dc: DataCube = preprocess_polygons(filtered_dc, selected_mp, quality_score_udf)"
   ]
  },
  {
   "cell_type": "markdown",
   "id": "ef6305ae-406b-47bd-bf97-f5cc2f41b5f5",
   "metadata": {
    "tags": []
   },
   "source": [
    "## Load water occurrence data"
   ]
  },
  {
   "cell_type": "code",
   "execution_count": null,
   "id": "9c817297-dd03-472b-9a0c-3032763cc891",
   "metadata": {
    "tags": []
   },
   "outputs": [],
   "source": [
    "con.describe_collection(\"GLOBAL_SURFACE_WATER\")"
   ]
  },
  {
   "cell_type": "code",
   "execution_count": null,
   "id": "6a977133-b7f0-4bc3-8f24-c65cf9a6003b",
   "metadata": {
    "tags": []
   },
   "outputs": [],
   "source": [
    "dc_wo: DataCube = con.load_collection(\n",
    "    collection_id=\"GLOBAL_SURFACE_WATER\",\n",
    "    spatial_extent=bbox_openeo,\n",
    "    bands=[\"occurrence\"]\n",
    ")"
   ]
  },
  {
   "cell_type": "markdown",
   "id": "4d26ecea-975c-4164-a572-8021771b92d0",
   "metadata": {},
   "source": [
    "As the temporal extent works in a weird way with the water occurrence data, either from 1984 until 2019, or until 2020, we have to filter after loading in both date ranges. After of filtering, we want to drop the t-axis. This is because this does not correlate with time the same way as the optical datacube."
   ]
  },
  {
   "cell_type": "code",
   "execution_count": null,
   "id": "f5675fb8-5956-4a57-8c87-bc4f3e35c83e",
   "metadata": {
    "tags": []
   },
   "outputs": [],
   "source": [
    "dc_wo_latest: DataCube = dc_wo.filter_temporal(extent=(\"2019-12-31\", \"2020-01-02\")).drop_dimension(\"t\")"
   ]
  },
  {
   "cell_type": "markdown",
   "id": "6dd6d2ca-4810-4326-936c-c49116cf6737",
   "metadata": {},
   "source": [
    "Now we resample spatially onto the optical datacube"
   ]
  },
  {
   "cell_type": "code",
   "execution_count": null,
   "id": "0ae65465-d0d7-49fe-9630-bd4ab6c924e4",
   "metadata": {
    "tags": []
   },
   "outputs": [],
   "source": [
    "dc_wo_resampled: DataCube = dc_wo_latest.resample_cube_spatial(preprocessed_dc, method=\"nearest\")"
   ]
  },
  {
   "cell_type": "markdown",
   "id": "f94ea2bd-ec75-48a9-8e05-cd0538415cec",
   "metadata": {},
   "source": [
    "## Calculate MNDWI\n",
    "\n",
    "Next step is to calculate the MNDWI of the datacube and merge this cube with the JRC datacube."
   ]
  },
  {
   "cell_type": "code",
   "execution_count": null,
   "id": "d5098822-38b0-44c6-a8aa-fc6c49cc1551",
   "metadata": {
    "tags": []
   },
   "outputs": [],
   "source": [
    "green: DataCube = preprocessed_dc.band(\"green\")\n",
    "swir: DataCube = preprocessed_dc.band(\"swir\")\n",
    "mndwi: DataCube = (green - swir) / (green + swir)"
   ]
  },
  {
   "cell_type": "markdown",
   "id": "88d9fb47-0cc3-41d9-90fa-a49a11faeb5d",
   "metadata": {},
   "source": [
    "## Merge Water Occurrence and MNDWI\n",
    "To merging two cubes where one cube has no t dimension is not supported yet: https://discuss.eodc.eu/t/merging-datacubes/310/2?u=jaapel\n",
    "What we do is resample the Water Occurrence dataset on every t that is also in the mndwi datset.\n",
    "For this to work, we unfortunately need to download the mndwi cube, and check the timesteps that it is in. We can then use these timesteps as an input to the `aggregate_temporal` step to \"aggregate\" the water occurrence dataset.\n",
    "Finally we can merge the two DataCubes: first we need to add a dimension that differs between both cubes if we want to keep both values."
   ]
  },
  {
   "cell_type": "code",
   "execution_count": null,
   "id": "625be8fc-eb75-4f6a-b54a-7e12fabdce72",
   "metadata": {
    "tags": []
   },
   "outputs": [],
   "source": [
    "from openeo import processes\n",
    "\n",
    "mndwi_mergeable = mndwi.add_dimension(name=\"bands\", label=\"MNDWI\", type=\"bands\")\n",
    "# Workaround for https://discuss.eodc.eu/t/merging-datacubes/310/5?u=jaapel\n",
    "# mndwi_mergeable = mndwi_mergeable.aggregate_temporal(daterange, reducer=processes.max)\n",
    "mndwi_mergeable.metadata.dimension_names()"
   ]
  },
  {
   "cell_type": "markdown",
   "id": "8255730b-e508-4f7f-9a47-be3fd72d487d",
   "metadata": {},
   "source": [
    "Multiply the datacube by 1.0 otherwise we try to merge cubes with different data types (int16 vs float32)"
   ]
  },
  {
   "cell_type": "code",
   "execution_count": null,
   "id": "fe417fe1-1787-4d4e-b1aa-6cbfde85d36f",
   "metadata": {
    "tags": []
   },
   "outputs": [],
   "source": [
    "dc_wo_m: DataCube = dc_wo_resampled.drop_dimension(\"bands\") * 1.0\n",
    "dc_wo_m = dc_wo_m.add_dimension(name=\"bands\", label=\"wo\", type=\"bands\")\n",
    "dc_wo_m.metadata.dimension_names()"
   ]
  },
  {
   "cell_type": "markdown",
   "id": "29498fd3-06ff-4493-b19b-d10cca55c71c",
   "metadata": {},
   "source": [
    "## Merge DataCube\n",
    "Now merge the aggregated Water Occurrence cube on the MNDWI cube"
   ]
  },
  {
   "cell_type": "code",
   "execution_count": null,
   "id": "c1d0fdc8-69af-43cf-a850-278378ef65cf",
   "metadata": {
    "tags": []
   },
   "outputs": [],
   "source": [
    "from openeo import processes\n",
    "\n",
    "# dc_wo_m: DataCube = dc_wo_resampled.add_dimension(\"source\", \"JRC\", type=\"other\")\n",
    "# dc_optical_m: DataCube = dc_optical.add_dimension(\"source\", \"S2_L1C\", type=\"other\")\n",
    "# dc_merged: DataCube = dc_optical_m.merge_cubes(dc_wo_m, overlap_resolver=processes.max)\n",
    "dc_merged: DataCube = mndwi_mergeable.merge_cubes(dc_wo_m)"
   ]
  },
  {
   "cell_type": "markdown",
   "id": "9e917234-5a51-46a4-84b9-a919b5f85530",
   "metadata": {},
   "source": [
    "## Load and apply Global Water Watch algorithm"
   ]
  },
  {
   "cell_type": "code",
   "execution_count": null,
   "id": "03b4716d-e5f5-4ce6-86c6-51fdab3126df",
   "metadata": {
    "tags": []
   },
   "outputs": [],
   "source": [
    "def load_gww_udf(path: Path):\n",
    "    with open(path, 'r+') as f:\n",
    "        return f.read()\n",
    "\n",
    "gww_udf_path: Path = Path.cwd().parent / \"udfs\" / \"gww.py\"\n",
    "gww_udf = load_gww_udf(gww_udf_path)"
   ]
  },
  {
   "cell_type": "code",
   "execution_count": null,
   "id": "e4193e66-628c-4f96-adc5-673cf379c40c",
   "metadata": {
    "tags": []
   },
   "outputs": [],
   "source": [
    "from openeo import processes\n",
    "\n",
    "def run_gww_algorithm(\n",
    "    dc: DataCube,\n",
    "    geometry: BaseGeometry\n",
    ") -> DataCube:\n",
    "    # We need these bands to be available in the cube\n",
    "    water = dc_merged.filter_bands([\"MNDWI\"]).apply(lambda _: processes.int(1)).rename_labels(\"bands\", target=[\"water\"], source=[\"MNDWI\"])\n",
    "    water_fill = dc_merged.filter_bands([\"MNDWI\"]).apply(lambda _: processes.int(1)).rename_labels(\"bands\", target=[\"water_fill\"], source=[\"MNDWI\"])\n",
    "    total_water = dc_merged.filter_bands([\"MNDWI\"]).apply(lambda _: processes.int(1)).rename_labels(\"bands\", target=[\"total_water\"], source=[\"MNDWI\"])\n",
    "    dc = dc.merge_cubes(water).merge_cubes(water_fill).merge_cubes(total_water)\n",
    "    process = lambda data: data.run_udf(udf=gww_udf, runtime=\"Python\")\n",
    "    return dc.chunk_polygon(chunks=geometry, process=process, context={\n",
    "        \"mndwi_band\": \"MNDWI\",\n",
    "        \"wo_band\": \"wo\"\n",
    "    })\n",
    "\n",
    "gww_dc = run_gww_algorithm(dc_merged, selected_mp)"
   ]
  },
  {
   "cell_type": "markdown",
   "id": "c57d05ea-c5ab-4b17-83d1-a814939d5765",
   "metadata": {
    "tags": []
   },
   "source": [
    "## Download and inspect result"
   ]
  },
  {
   "cell_type": "code",
   "execution_count": null,
   "id": "f5a59df7-3477-40da-a407-6adf39983875",
   "metadata": {
    "tags": []
   },
   "outputs": [],
   "source": [
    "job = gww_dc.create_job(\"netcdf\", \"gww_udf\", description=\"gww_udf\")\n",
    "job = job.start_and_wait()"
   ]
  },
  {
   "cell_type": "code",
   "execution_count": null,
   "id": "c9ed0125-884c-4bc5-a779-a92531c6754a",
   "metadata": {
    "tags": []
   },
   "outputs": [],
   "source": [
    "gww_path = out_dir / \"gww.nc\"\n",
    "job.get_results().get_assets()[0].download(gww_path)"
   ]
  },
  {
   "cell_type": "code",
   "execution_count": null,
   "id": "fd7f96fe-1193-48bd-bf2c-e7bcc1818cb7",
   "metadata": {
    "tags": []
   },
   "outputs": [],
   "source": [
    "import rioxarray\n",
    "import xarray as xr\n",
    "\n",
    "gww_path = out_dir / \"gww.nc\"\n",
    "fixed_gww_path: Path = out_dir / \"gww_fixed.nc\"\n",
    "ds_gww: xr.Dataset = rioxarray.open_rasterio(gww_path)\n",
    "ds_gww = ds_gww.drop(\"crs\")\n",
    "ds_gww.to_netcdf(fixed_gww_path)"
   ]
  },
  {
   "cell_type": "code",
   "execution_count": null,
   "id": "900e502d-92a0-4573-8316-b0f1eb61ae82",
   "metadata": {
    "tags": []
   },
   "outputs": [],
   "source": [
    "ds_gww"
   ]
  },
  {
   "cell_type": "code",
   "execution_count": null,
   "id": "ed6d086f-07b5-42f0-a9f7-07478734f728",
   "metadata": {
    "tags": []
   },
   "outputs": [],
   "source": [
    "import cartopy.crs as ccrs\n",
    "\n",
    "import geoviews as gv\n",
    "import holoviews as hv\n",
    "import numpy as np\n",
    "\n",
    "from holoviews import opts, streams\n",
    "from holoviews.element.tiles import OSM\n",
    "\n",
    "gv.extension(\"bokeh\",\"matplotlib\")"
   ]
  },
  {
   "cell_type": "code",
   "execution_count": null,
   "id": "5e9499b6-cc79-4bd2-ba7a-6c76ddc5293a",
   "metadata": {
    "tags": []
   },
   "outputs": [],
   "source": [
    "kdims = [\"x\", \"y\", \"t\"]\n",
    "vdims = [\"MNDWI\", \"wo\", \"water\", \"water_fill\", \"total_water\"]\n",
    "\n",
    "hv.Dimension.type_formatters[np.datetime64] = '%Y-%m-%d-%H:%M'  # readable time format\n",
    "gv_gww = gv.Dataset(ds_gww, kdims=kdims, vdims=vdims, crs=ccrs.UTM(utm_zone)).redim(x=\"lon\", y=\"lat\")\n",
    "\n",
    "print(repr(gv_gww))"
   ]
  },
  {
   "cell_type": "code",
   "execution_count": null,
   "id": "b02388ed-0317-45fe-a4e3-7c0ce2ed5112",
   "metadata": {
    "tags": []
   },
   "outputs": [],
   "source": [
    "dmap_mndwi = gv_gww.to(gv.Image, [\"lon\", \"lat\"], \"total_water\", group=\"raw_data\", label=\"raw\", datatype=[\"xarray\"], dynamic=True)\n",
    "overlay_mndwi = OSM() * dmap_mndwi\n",
    "overlay_mndwi.opts(\n",
    "    opts.Image(cmap=\"turbo\", colorbar=True, clim=(0, 1), alpha=0.8, height=500, width=500, tools=[\"hover\"]),\n",
    "    opts.Tiles(height=500, width=500))\n",
    "\n",
    "overlay_mndwi"
   ]
  },
  {
   "cell_type": "markdown",
   "id": "aa68da70-6e83-4376-8042-b18741f4bbf3",
   "metadata": {},
   "source": [
    "## Plot timeseries of surface water area"
   ]
  },
  {
   "cell_type": "code",
   "execution_count": null,
   "id": "82800b5d-e0aa-4338-8900-90307ef108cb",
   "metadata": {
    "tags": []
   },
   "outputs": [],
   "source": [
    "total_water_da = ds_gww[\"total_water\"]"
   ]
  },
  {
   "cell_type": "code",
   "execution_count": null,
   "id": "f8045311-5988-4848-9e65-6111fe162d81",
   "metadata": {
    "tags": []
   },
   "outputs": [],
   "source": [
    "times = total_water_da.t.values\n",
    "water_areas = total_water_da.sum(dim=[\"x\", \"y\"])"
   ]
  },
  {
   "cell_type": "code",
   "execution_count": null,
   "id": "a075897d-9c40-491d-aad0-275d1f0b4458",
   "metadata": {
    "tags": []
   },
   "outputs": [],
   "source": [
    "times"
   ]
  },
  {
   "cell_type": "code",
   "execution_count": null,
   "id": "5bee3dbf-a675-4afe-bb01-39d748ece024",
   "metadata": {
    "tags": []
   },
   "outputs": [],
   "source": [
    "! pip install nc_time_axis"
   ]
  },
  {
   "cell_type": "code",
   "execution_count": null,
   "id": "e6cd5b01-33dd-4cc7-92bb-f22b5a2b2145",
   "metadata": {
    "tags": []
   },
   "outputs": [],
   "source": [
    "import matplotlib.pyplot as plt\n",
    "import nc_time_axis\n",
    "%matplotlib inline\n",
    "plt.plot(times, water_areas)"
   ]
  },
  {
   "cell_type": "code",
   "execution_count": null,
   "id": "a69bae8a-9f35-410c-9e07-a2dfecb0ed0f",
   "metadata": {},
   "outputs": [],
   "source": []
  }
 ],
 "metadata": {
  "kernelspec": {
   "display_name": "Python 3 (ipykernel)",
   "language": "python",
   "name": "python3"
  },
  "language_info": {
   "codemirror_mode": {
    "name": "ipython",
    "version": 3
   },
   "file_extension": ".py",
   "mimetype": "text/x-python",
   "name": "python",
   "nbconvert_exporter": "python",
   "pygments_lexer": "ipython3",
   "version": "3.9.7"
  }
 },
 "nbformat": 4,
 "nbformat_minor": 5
}
