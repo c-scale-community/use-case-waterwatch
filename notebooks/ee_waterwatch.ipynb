{
 "cells": [
  {
   "cell_type": "markdown",
   "id": "bf4e8498-62c2-406c-ab65-96cf9e4c6799",
   "metadata": {},
   "source": [
    "# GWW Single algorithm using EE\n",
    "\n",
    "First an example of the algorithm using earthengine is generated for comparison with the openEO implementation."
   ]
  },
  {
   "cell_type": "code",
   "execution_count": null,
   "id": "796c9ca0-b57c-470a-ac3d-488953218f0b",
   "metadata": {},
   "outputs": [],
   "source": [
    "import ee\n",
    "import geemap"
   ]
  },
  {
   "cell_type": "markdown",
   "id": "f79edce3-f736-45bd-b672-bfa94b75e0bc",
   "metadata": {},
   "source": [
    "## Obtain basins dataset\n",
    "\n",
    "This algorithm uses a dataset that collects a few open source datasets of basins as polygons.\n",
    "Right now, this is saved as an earthengine asset.\n",
    "We also get the JRC water occurence dataset"
   ]
  },
  {
   "cell_type": "code",
   "execution_count": null,
   "id": "f50067e7-eb23-49b1-9f01-28436fa0fd69",
   "metadata": {},
   "outputs": [],
   "source": [
    "from pathlib import Path\n",
    "from typing import List\n",
    "from utils import Reservoir\n",
    "\n",
    "out_dir = Path.cwd() / \"output\"\n",
    "reservoir_dir: Path = out_dir / \"reservoirs\"\n",
    "\n",
    "reservoirs: List[Reservoir] = Reservoir.from_gcp(reservoir_dir)"
   ]
  },
  {
   "cell_type": "code",
   "execution_count": null,
   "id": "6d00b9ed-263a-4675-b450-2818923c0676",
   "metadata": {},
   "outputs": [],
   "source": [
    "import json\n",
    "import shapely\n",
    "\n",
    "geojson_str = json.dumps(shapely.geometry.mapping(reservoirs[1].geometry))"
   ]
  },
  {
   "cell_type": "code",
   "execution_count": null,
   "id": "35b3422b-89b5-4b4e-938b-8be274791475",
   "metadata": {},
   "outputs": [],
   "source": [
    "import geojson\n",
    "# Selected an area in https://code.earthengine.google.com/7599feb42d93ad763852d6b78fc98930\n",
    "# geojson_str = \"{\\\"type\\\":\\\"Polygon\\\",\\\"coordinates\\\":[[[16.00079546305277,49.19952794145144],[16.00079546305277,49.12049851321871],[16.125764945474646,49.12049851321871],[16.125764945474646,49.19952794145144]]],\\\"geodesic\\\":false,\\\"evenOdd\\\":true}\"\n",
    "bbox: geojson.Polygon = geojson.loads(geojson_str)\n",
    "Map: geemap.Map = geemap.Map()\n",
    "\n",
    "sac = ee.ServiceAccountCredentials(\"dagster-workloads@global-water-watch.iam.gserviceaccount.com\", \"/home/jovyan/work/notebooks/pk.json\")\n",
    "ee.Initialize(sac)"
   ]
  },
  {
   "cell_type": "code",
   "execution_count": null,
   "id": "d1e52b91-24d3-4501-b915-f832816a707c",
   "metadata": {},
   "outputs": [],
   "source": [
    "water_occurrence = ee.Image(\"JRC/GSW1_3/GlobalSurfaceWater\") \\\n",
    "  .select('occurrence') \\\n",
    "  .unmask(0) \\\n",
    "  .resample('bicubic') \\\n",
    "  .divide(100)\n",
    "  \n",
    "water_occurrence = water_occurrence.mask(water_occurrence)\n",
    "waterbodies = ee.FeatureCollection(\"projects/global-water-watch/assets/reservoirs-v1-0\")\n",
    "\n",
    "count = waterbodies.size().getInfo()\n",
    "count"
   ]
  },
  {
   "cell_type": "markdown",
   "id": "4cdd399c-a60e-4aaf-b9e5-600ed62cd43b",
   "metadata": {},
   "source": [
    "## Obtain basins within area\n",
    "\n",
    "Ideally, a service containing the GWW algorithm would provide data and metadata for a selected bounding box and timeframe. In this notebook, we focus on a single basin. Here we select an area of interest and get all basins within this area."
   ]
  },
  {
   "cell_type": "code",
   "execution_count": null,
   "id": "1d8c90f2-c11a-4c93-83b6-854083b73358",
   "metadata": {},
   "outputs": [],
   "source": [
    "bbox: ee.Geometry = ee.Geometry(bbox)\n",
    "waterbody: ee.Feature = ee.Feature(waterbodies.filterBounds(bbox).first())  # Only 1 basin in bbox\n",
    "Map.centerObject(bbox)\n",
    "Map.addLayer(waterbody, {\"opacity\": 0.8}, \"waterbody_area\")\n",
    "Map.addLayer(water_occurrence, {}, \"woc\")\n",
    "Map"
   ]
  },
  {
   "cell_type": "code",
   "execution_count": null,
   "id": "dae442c0-f66f-4449-bef0-eed888c94970",
   "metadata": {},
   "outputs": [],
   "source": [
    "waterbody.get(\"fid\").getInfo()"
   ]
  },
  {
   "cell_type": "markdown",
   "id": "23bb49eb-03d2-4bce-94e6-3ccee91bfc02",
   "metadata": {},
   "source": [
    "## Use single basin analysis from eepackages implementation\n",
    "\n",
    "We use the eepackages implementation to obtain the waterbody area and other statistics for a certain timeframe within the waterbody (internally it buffers the waterbody)"
   ]
  },
  {
   "cell_type": "code",
   "execution_count": null,
   "id": "3325ecb1-e7a4-4b1f-ae36-625cc10cf5bd",
   "metadata": {
    "tags": []
   },
   "outputs": [],
   "source": [
    "from eepackages.applications.waterbody_area import computeSurfaceWaterArea\n",
    "\n",
    "start_filter = \"2021-05-01\"\n",
    "start = \"2021-09-01\"\n",
    "stop = \"2022-05-01\"\n",
    "scale = waterbody.geometry().area().sqrt().divide(200).max(10).getInfo()\n",
    "# missions = [\"S2\"]\n",
    "missions = [\"L4\", \"L5\", \"L7\", \"L8\", \"S2\"]\n",
    "\n",
    "water_area: ee.ImageCollection = computeSurfaceWaterArea(waterbody, start_filter, start, stop, scale, water_occurrence, missions)\n",
    "# Filter out poor images\n",
    "water_area = water_area.filter(\n",
    "        ee.Filter.And(\n",
    "          ee.Filter.neq('p', 101),\n",
    "          ee.Filter.gt('ndwi_threshold', -0.15),\n",
    "          ee.Filter.lt('ndwi_threshold', 0.5),\n",
    "          ee.Filter.lt('filled_fraction', 0.6)\n",
    "        )\n",
    "      ).sort(\"system:time_start\")\n",
    "\n",
    "properties = [\n",
    "    \"MISSION\",\n",
    "    \"ndwi_threshold\",\n",
    "    \"quality_score\",\n",
    "    \"area_filled\",\n",
    "    \"filled_fraction\",\n",
    "    \"p\",\n",
    "    \"system:time_start\",\n",
    "    \"area\",\n",
    "]\n",
    "properties_new = [\n",
    "    \"mission\",\n",
    "    \"ndwi_threshold\",\n",
    "    \"quality_score\",\n",
    "    \"water_area_filled\",\n",
    "    \"water_area_filled_fraction\",\n",
    "    \"water_area_p\",\n",
    "    \"water_area_time\",\n",
    "    \"water_area_value\",\n",
    "]\n",
    "\n",
    "water_area = (\n",
    "    ee.FeatureCollection(water_area)\n",
    "    .select(properties, properties_new, False)\n",
    "    .set(\"scale\", scale)\n",
    ")\n",
    "\n",
    "# Check amount of images remaining\n",
    "print(f\"number of images in FC: {water_area.size().getInfo()}\")\n",
    "# water_area_ex: ee.Image = water_area.filterMetadata(\"CLOUDY_PIXEL_PERCENTAGE\", \"less_than\", 10).first()\n",
    "# Map.addLayer(water_area_ex, {\"opacity\": 0.8, \"bands\": [\"water\"]}, \"water_area_ex\")\n",
    "# Map.addLayer(water_area_ex, {\"opacity\": 0.8, \"bands\": [\"water_fill\"]}, \"water_fill\")\n",
    "# Map.addLayer(water_area_ex, {\"opacity\": 0.8, \"bands\": [\"water_edge\"]}, \"water_edge\")\n",
    "Map"
   ]
  },
  {
   "cell_type": "markdown",
   "id": "f7004361-2986-45fe-9607-03aa94eb8667",
   "metadata": {},
   "source": [
    "## Obtain statistics of water area over time\n",
    "\n",
    "Water area is used as a proxy of available capacity of the basin. We take the available water area over time."
   ]
  },
  {
   "cell_type": "code",
   "execution_count": null,
   "id": "27ce6c0c-07b8-469b-83f7-74dad7afa65d",
   "metadata": {},
   "outputs": [],
   "source": [
    "# filled_area is water area after correcting for false positives\n",
    "water_statistics = water_area.getInfo()"
   ]
  },
  {
   "cell_type": "code",
   "execution_count": null,
   "id": "97ca1811-7455-45fb-8ee6-c254d03a38c7",
   "metadata": {},
   "outputs": [],
   "source": [
    "water_statistics"
   ]
  },
  {
   "cell_type": "code",
   "execution_count": null,
   "id": "7cd6be47-d01e-45c7-b66c-a77e82ca491b",
   "metadata": {},
   "outputs": [],
   "source": [
    "from datetime import datetime\n",
    "import holoviews as hv\n",
    "from holoviews import opts\n",
    "\n",
    "hv.extension(\"bokeh\")\n",
    "\n",
    "xy = zip(*map(lambda prop: (datetime.fromtimestamp(prop[\"system:time_start\"] / 10e2), prop[\"water_filled_area\"]),\n",
    "         map(lambda feat: feat[\"properties\"], water_statistics[\"features\"])\n",
    "))\n",
    "x = list(next(xy))\n",
    "y = list(next(xy))\n",
    "\n",
    "hv.Dimension.type_formatters[datetime] = '%Y-%m-%d'\n",
    "time = hv.Dimension(\"time\", label=\"time\" )\n",
    "area = hv.Dimension(\"area\", label=\"area\", unit=\"m2\")\n",
    "\n",
    "hv.Curve((x, y), time, area).opts(opts.Curve(height=200, width=900, line_width=1.50, color='black', tools=['hover']))"
   ]
  },
  {
   "cell_type": "code",
   "execution_count": null,
   "id": "c2d8ddbc-9d79-4e9a-abba-d19e3a4890bd",
   "metadata": {},
   "outputs": [],
   "source": [
    "len(water_statistics[\"features\"])"
   ]
  }
 ],
 "metadata": {
  "kernelspec": {
   "display_name": "Python 3 (ipykernel)",
   "language": "python",
   "name": "python3"
  },
  "language_info": {
   "codemirror_mode": {
    "name": "ipython",
    "version": 3
   },
   "file_extension": ".py",
   "mimetype": "text/x-python",
   "name": "python",
   "nbconvert_exporter": "python",
   "pygments_lexer": "ipython3",
   "version": "3.9.7"
  }
 },
 "nbformat": 4,
 "nbformat_minor": 5
}
