{
 "cells": [
  {
   "cell_type": "markdown",
   "id": "3f747426-0098-4d96-8a70-ab74438678af",
   "metadata": {},
   "source": [
    "# Test Otsu thresholding on water image\n",
    "\n",
    "The global water watch algorithm uses [Otsu thresholding](http://www.labbookpages.co.uk/software/imgProc/otsuThreshold.html) to determine the MNDWI threshold between water and land. We can implement this using local xarray implementation, which can then be passed to chunks as a [UDF](https://open-eo.github.io/openeo-python-client/udf.html) in the openeo backend."
   ]
  },
  {
   "cell_type": "code",
   "execution_count": null,
   "id": "208b8af5-6291-4571-a9ae-035c5df615b3",
   "metadata": {
    "tags": []
   },
   "outputs": [],
   "source": [
    "# imports\n",
    "from typing import List, Dict, Tuple, Union\n",
    "from pathlib import Path\n",
    "\n",
    "import geojson\n",
    "from openeo import connect, Connection\n",
    "from openeo.rest.datacube import DataCube\n",
    "from pyproj import CRS, Proj, Transformer\n",
    "from pyproj.aoi import AreaOfInterest\n",
    "from shapely.geometry import MultiPolygon, Polygon\n",
    "from shapely.ops import transform\n",
    "\n",
    "from utils import Reservoir"
   ]
  },
  {
   "cell_type": "code",
   "execution_count": null,
   "id": "b08e31b2-95eb-4983-8e8d-ce2b5fba2c84",
   "metadata": {},
   "outputs": [],
   "source": [
    "# Connect to backend:\n",
    "openeo_platform_url: str = \"openeo.cloud\"\n",
    "vito_url: str = \"https://openeo.vito.be/openeo/1.1\"\n",
    "vito_dev_url: str = \"openeo-dev.vito.be\"\n",
    "\n",
    "backend_url = vito_url\n",
    "\n",
    "con: Connection = connect(backend_url)\n",
    "con.authenticate_oidc(provider_id=\"egi\")\n",
    "\n",
    "debug = True\n",
    "\n",
    "out_dir: Path = Path(\"output\")\n",
    "out_dir.mkdir(parents=True, exist_ok=True)"
   ]
  },
  {
   "cell_type": "code",
   "execution_count": null,
   "id": "6bc5aa39-1b75-478b-8b00-26e0741e80c9",
   "metadata": {},
   "outputs": [],
   "source": [
    "# Find Level 1C product of Sentinel 2 mission\n",
    "collections = con.list_collections()\n",
    "if backend_url == vito_url or vito_dev_url:\n",
    "    collection_id = \"SENTINEL2_L1C_SENTINELHUB\"\n",
    "elif backend_url == openeo_platform_url:\n",
    "    collection_id = \"SENTINEL2_L1C\"\n",
    "con.describe_collection(collection_id)"
   ]
  },
  {
   "cell_type": "code",
   "execution_count": null,
   "id": "2355920d-5d29-4bd7-8e59-6188fc70f550",
   "metadata": {},
   "outputs": [],
   "source": [
    "# Get reservoirs from database\n",
    "reservoir_dir: Path = out_dir / \"reservoirs\"\n",
    "\n",
    "reservoirs: List[Reservoir] = Reservoir.from_gcp(reservoir_dir)"
   ]
  },
  {
   "cell_type": "markdown",
   "id": "a02ca197-0ee0-412b-9089-8c2d4ee84421",
   "metadata": {
    "tags": []
   },
   "source": [
    "## Setup AoI and parameters\n",
    "Eventually we will run the algorithm based on a certain spatial and temporal extent. There are more parameters used in the algorithm that can be finetuned later on. We therefore collect all relevant parameters in the beginning of the notebook.\n",
    "We want to load the data from the backend. For visualization options, we want to load RGB. We load swir16 for the NDWI product as well, as well as nir for some NDVI filters that are applied later on.\n",
    "\n",
    "In case of debug, we just take the bounding box of one of the reservoirs in Chzechia that show seasonal variation and extend it so that the reservoirs fit.\n",
    "Otherwise the entirety of Chzechia is used."
   ]
  },
  {
   "cell_type": "code",
   "execution_count": null,
   "id": "6c4d7564-9f0d-4f49-8b33-3e19c0316163",
   "metadata": {},
   "outputs": [],
   "source": [
    "import math\n",
    "\n",
    "def get_utm_zone(lon: float) -> int:\n",
    "    return math.ceil((180 + lon) / 6)"
   ]
  },
  {
   "cell_type": "code",
   "execution_count": null,
   "id": "49f82f6c-70f4-4a53-aec9-1e80fb5fb015",
   "metadata": {},
   "outputs": [],
   "source": [
    "if debug:\n",
    "    geojson_str = \"{\\\"type\\\":\\\"Polygon\\\",\\\"coordinates\\\":[[[16.258372886421807,49.561646293673824],[16.314909857006697,49.561646293673824],[16.314909857006697,49.58980547068479],[16.258372886421807,49.58980547068479],[16.258372886421807,49.561646293673824]]],\\\"geodesic\\\":false}\"\n",
    "    gjson: geojson.Polygon = geojson.loads(geojson_str)\n",
    "    bbox = Polygon(gjson.coordinates[0])\n",
    "else:\n",
    "    # entire chzechia\n",
    "    bbox = Polygon([[12.09,51.06],[12.09, 48.55], [18.87,48.55], [18.87, 51.06], [12.09,51.06]])\n",
    "\n",
    "# convert bbox polygon to utm zone\n",
    "wgs84: CRS = CRS('EPSG:4326')\n",
    "utm_zone: int = get_utm_zone(min(bbox.exterior.xy[0]))\n",
    "utm: CRS = CRS(proj='utm', zone=utm_zone)\n",
    "project_to_utm: Transformer = Transformer.from_crs(wgs84, utm, always_xy=True)\n",
    "project_to_latlon: Transformer = Transformer.from_crs(utm, wgs84, always_xy=True)\n",
    "\n",
    "bbox_utm = transform(project_to_utm.transform, bbox)\n",
    "if debug:\n",
    "    # transform and buffer 1km so all imagery plus buffers is loaded.\n",
    "    bbox_utm = bbox_utm.buffer(1000.)\n",
    "    bbox = transform(project_to_latlon.transform, bbox_utm)\n",
    "\n",
    "band_names = [\"green\", \"nir\", \"swir\", \"cloudmask\", \"cloudp\"]\n",
    "band_codes = [\"B03\", \"B08\", \"B11\", \"CLM\", \"CLP\"]\n",
    "\n",
    "# after crs transform, we get a distorted box, take extremities as bbox\n",
    "xys = bbox_utm.exterior.coords.xy\n",
    "bbox_openeo = {\n",
    "    \"west\": min(xys[0]),\n",
    "    \"east\": max(xys[0]),\n",
    "    \"south\": min(xys[1]),\n",
    "    \"north\": max(xys[1]),\n",
    "    \"crs\": \":\".join(utm.to_authority())\n",
    "}\n",
    "\n",
    "print(f\"openeo spatial extent: {bbox_openeo}\")\n",
    "print(f\"UTM zone: {utm_zone}\")\n",
    "if debug:\n",
    "    start = \"2021-05-01\"\n",
    "    stop = \"2021-08-01\"\n",
    "else:\n",
    "    start = \"2017-04-01\"\n",
    "    stop = \"2021-01-01\""
   ]
  },
  {
   "cell_type": "markdown",
   "id": "8401087f-ff77-41a2-95b5-53b77ba92c8d",
   "metadata": {},
   "source": [
    "## Buffer reservoirs using 300m buffer\n",
    "In order to pickup on flooding / high water levels, we buffer the reservoirs using a 300m buffer. As the AoI needs to be given to the `chunk_polygon` method, we this this locally and not on the cluster."
   ]
  },
  {
   "cell_type": "code",
   "execution_count": null,
   "id": "8d4decf1-58dc-4174-b1b9-9ba48afe95ff",
   "metadata": {},
   "outputs": [],
   "source": [
    "# Select reservoirs within bbox and buffer 300m\n",
    "from copy import copy\n",
    "\n",
    "def buffer_in_utm(reservoir, buffer_m):\n",
    "    try:\n",
    "        new_res = copy(reservoir)\n",
    "        bounds = new_res.geometry.bounds\n",
    "        min_lon = bounds[0]\n",
    "        _utm_zone: int = get_utm_zone(min_lon)\n",
    "        if abs(_utm_zone - utm_zone) > 1:\n",
    "            # If not close to utm zone, then not in AoI\n",
    "            return None\n",
    "        buffered_geom = transform(project_to_utm.transform, new_res.geometry).buffer(buffer_m, 1)\n",
    "        latlon_geom = transform(project_to_latlon.transform, buffered_geom)\n",
    "        new_res.geometry = latlon_geom\n",
    "    except ValueError as e:\n",
    "        print(reservoir.geometry.wkt)\n",
    "    return new_res\n",
    "    \n",
    "\n",
    "selected = list(\n",
    "    filter(lambda r: bbox.covers(r.geometry),\n",
    "    filter(lambda r: r is not None,\n",
    "    map(lambda r: buffer_in_utm(r, 300.),\n",
    "        reservoirs\n",
    "    )))\n",
    ")\n",
    "selected_mp = MultiPolygon(list(map(lambda s: s.geometry, selected)))\n",
    "selected[0].geometry"
   ]
  },
  {
   "cell_type": "markdown",
   "id": "ce1451e9-e0fe-459f-82e5-9da397725f16",
   "metadata": {
    "tags": []
   },
   "source": [
    "## Load optical data\n",
    "Load optical data using parameters declared above. Altough the Waterwatch algorithm uses Landsat 7 & 8 missions as well as Sentinel 2, we just use Sentinel-2 here for simplicity."
   ]
  },
  {
   "cell_type": "code",
   "execution_count": null,
   "id": "0b302bc9-da62-4649-883e-4c100da55cc1",
   "metadata": {},
   "outputs": [],
   "source": [
    "dc_optical: DataCube = con.load_collection(\n",
    "        collection_id=collection_id,\n",
    "        spatial_extent=bbox_openeo,\n",
    "        temporal_extent=(start, stop),\n",
    "        bands=band_codes\n",
    "    ).rename_labels(dimension=\"bands\", source=band_codes, target=band_names)"
   ]
  },
  {
   "cell_type": "markdown",
   "id": "ee95bdee-0727-4b2f-b9c9-5c0260e6016d",
   "metadata": {},
   "source": [
    "## Filter optical data\n",
    "Filtering happens in two steps:\n",
    "1. Filter based on the cloud coverage percentage band (CLP) in the Sentinel-2 dataset. Calculate the percentile cloud chance in the AoI per image, and filter the top x percentile based on the percentile cloud expected in that area. For Chzechia we take a 35% percentile based on the MODIS cloud occurrence dataset.\n",
    "2. In the AoI, calculate the data coverage per image, then filter images with too little coverage."
   ]
  },
  {
   "cell_type": "markdown",
   "id": "6c003f44-661c-40e4-b393-548e001f3701",
   "metadata": {},
   "source": [
    "### filter on cloud percentages"
   ]
  },
  {
   "cell_type": "code",
   "execution_count": null,
   "id": "48682d3a-9750-4820-b604-ddba83dfb907",
   "metadata": {},
   "outputs": [],
   "source": [
    "def load_udf(path: Path):\n",
    "    with open(path, 'r+') as f:\n",
    "        return f.read()\n",
    "\n",
    "udf_path: Path = Path.cwd().parent / \"udfs\" / \"filter_mostly_clean_images.py\"\n",
    "quality_score_udf = load_udf(udf_path)"
   ]
  },
  {
   "cell_type": "code",
   "execution_count": null,
   "id": "a036101b-2b91-4188-a73e-a903fa97b58a",
   "metadata": {},
   "outputs": [],
   "source": [
    "from shapely.geometry.base import BaseGeometry\n",
    "\n",
    "def filter_mostly_clean_images(\n",
    "    dc: DataCube,\n",
    "    geometry: BaseGeometry,\n",
    "    quality_score_udf: str,\n",
    "    cutoff_percentile: int = 35,\n",
    "    score_percentile: int = 75,\n",
    "    quality_band: str = 'cloudp',\n",
    "    \n",
    ") -> DataCube:\n",
    "    \"\"\"\n",
    "    filters images based on cloud coverage percentile\n",
    "    \"\"\"\n",
    "    process = lambda data: data.run_udf(udf=quality_score_udf, runtime=\"Python\")\n",
    "    return dc.chunk_polygon(chunks=geometry, process=process, context={\n",
    "        \"cutoff_percentile\": cutoff_percentile,\n",
    "        \"quality_band\": quality_band,\n",
    "        \"score_percentile\": score_percentile\n",
    "    })\n",
    "\n",
    "filtered_dc: DataCube = filter_mostly_clean_images(dc_optical, selected_mp, quality_score_udf)"
   ]
  },
  {
   "cell_type": "markdown",
   "id": "ff8d2e11-ead9-4c52-b06d-8ae498ec70fe",
   "metadata": {
    "tags": []
   },
   "source": [
    "### Filter on area coverage"
   ]
  },
  {
   "cell_type": "code",
   "execution_count": null,
   "id": "1ba29dae-03b1-46a2-a0ac-c7b3366618ca",
   "metadata": {},
   "outputs": [],
   "source": [
    "def load_udf(path: Path):\n",
    "    with open(path, 'r+') as f:\n",
    "        return f.read()\n",
    "\n",
    "udf_path: Path = Path.cwd().parent / \"udfs\" / \"preprocess_polygons.py\"\n",
    "preprocess_polygons_udf = load_udf(udf_path)"
   ]
  },
  {
   "cell_type": "code",
   "execution_count": null,
   "id": "759a610a-31f2-4717-99ed-f0589a500502",
   "metadata": {},
   "outputs": [],
   "source": [
    "def preprocess_polygons(\n",
    "    dc: DataCube,\n",
    "    geometry: BaseGeometry,\n",
    "    minimum_filled_fraction: int = 0.35,\n",
    "    quality_check_bands: List[str] = [\"green\", \"nir\", \"swir\"]\n",
    "    \n",
    ") -> DataCube:\n",
    "    \"\"\"\n",
    "    \n",
    "    \"\"\"\n",
    "    process = lambda data: data.run_udf(udf=preprocess_polygons_udf, runtime=\"Python\")\n",
    "    return dc.chunk_polygon(chunks=geometry, process=process, context={\n",
    "        \"minimum_filled_fraction\": minimum_filled_fraction,\n",
    "        \"quality_check_bands\": quality_check_bands\n",
    "    })\n",
    "\n",
    "preprocessed_dc: DataCube = preprocess_polygons(filtered_dc, selected_mp, quality_score_udf)"
   ]
  },
  {
   "cell_type": "markdown",
   "id": "3931fc9f-9bbc-4462-8de6-0385d941e821",
   "metadata": {
    "tags": []
   },
   "source": [
    "## Load water occurrence data"
   ]
  },
  {
   "cell_type": "code",
   "execution_count": null,
   "id": "5b0b9fec-4a7e-4203-8b30-0a2b44a50aa4",
   "metadata": {},
   "outputs": [],
   "source": [
    "con.describe_collection(\"GLOBAL_SURFACE_WATER\")"
   ]
  },
  {
   "cell_type": "code",
   "execution_count": null,
   "id": "6898c2fd-9142-417c-b5e0-c220e84fa527",
   "metadata": {},
   "outputs": [],
   "source": [
    "dc_wo: DataCube = con.load_collection(\n",
    "    collection_id=\"GLOBAL_SURFACE_WATER\",\n",
    "    spatial_extent=bbox_openeo,\n",
    "    bands=[\"occurrence\"]\n",
    ")"
   ]
  },
  {
   "cell_type": "markdown",
   "id": "5d3d462e-c1be-45c9-9ce9-23a468635c2b",
   "metadata": {},
   "source": [
    "As the temporal extent works in a weird way with the water occurrence data, either from 1984 until 2019, or until 2020, we have to filter after loading in both date ranges. After of filtering, we want to drop the t-axis. This is because this does not correlate with time the same way as the optical datacube."
   ]
  },
  {
   "cell_type": "code",
   "execution_count": null,
   "id": "398be383-7179-41b3-a6cd-b5bb070ad908",
   "metadata": {},
   "outputs": [],
   "source": [
    "dc_wo_latest: DataCube = dc_wo.filter_temporal(extent=(\"2019-12-31\", \"2020-01-02\")).drop_dimension(\"t\")"
   ]
  },
  {
   "cell_type": "markdown",
   "id": "1db9ced2-5a43-40a3-a5eb-c933012a823a",
   "metadata": {},
   "source": [
    "Now we resample spatially onto the optical datacube"
   ]
  },
  {
   "cell_type": "code",
   "execution_count": null,
   "id": "533e8ade-17e5-414c-b9d8-2a24bae71a63",
   "metadata": {},
   "outputs": [],
   "source": [
    "dc_wo_resampled: DataCube = dc_wo_latest.resample_cube_spatial(preprocessed_dc, method=\"nearest\")"
   ]
  },
  {
   "cell_type": "markdown",
   "id": "98c18657-96e8-4e92-bed7-cfc11bc0f169",
   "metadata": {},
   "source": [
    "## Calculate MNDWI\n",
    "\n",
    "Next step is to calculate the MNDWI of the datacube and merge this cube with the JRC datacube."
   ]
  },
  {
   "cell_type": "code",
   "execution_count": null,
   "id": "74048d6d-5883-423b-a7f2-24e7a0a141eb",
   "metadata": {},
   "outputs": [],
   "source": [
    "green: DataCube = preprocessed_dc.band(\"green\")\n",
    "swir: DataCube = preprocessed_dc.band(\"swir\")\n",
    "mndwi: DataCube = (green - swir) / (green + swir)"
   ]
  },
  {
   "cell_type": "markdown",
   "id": "34fc391e-866c-45b6-9eb3-04ff191c3e06",
   "metadata": {},
   "source": [
    "## Merge Water Occurrence and MNDWI\n",
    "To merging two cubes where one cube has no t dimension is not supported yet: https://discuss.eodc.eu/t/merging-datacubes/310/2?u=jaapel\n",
    "What we do is resample the Water Occurrence dataset on every t that is also in the mndwi datset.\n",
    "For this to work, we unfortunately need to download the mndwi cube, and check the timesteps that it is in. We can then use these timesteps as an input to the `aggregate_temporal` step to \"aggregate\" the water occurrence dataset.\n",
    "Finally we can merge the two DataCubes: first we need to add a dimension that differs between both cubes if we want to keep both values."
   ]
  },
  {
   "cell_type": "code",
   "execution_count": null,
   "id": "df2fc33d-dc2f-437c-a69a-5ee93a9089aa",
   "metadata": {},
   "outputs": [],
   "source": [
    "from openeo import processes\n",
    "\n",
    "mndwi_mergeable = mndwi.add_dimension(name=\"bands\", label=\"MNDWI\", type=\"bands\")\n",
    "# Workaround for https://discuss.eodc.eu/t/merging-datacubes/310/5?u=jaapel\n",
    "# mndwi_mergeable = mndwi_mergeable.aggregate_temporal(daterange, reducer=processes.max)\n",
    "mndwi_mergeable.metadata.dimension_names()"
   ]
  },
  {
   "cell_type": "markdown",
   "id": "53d95a9a-fe8b-4a57-9cef-39e6bdd0ec3c",
   "metadata": {},
   "source": [
    "Multiply the datacube by 1.0 otherwise we try to merge cubes with different data types (int16 vs float32)"
   ]
  },
  {
   "cell_type": "code",
   "execution_count": null,
   "id": "9136891d-16d5-49a5-a833-40f140887e2a",
   "metadata": {},
   "outputs": [],
   "source": [
    "dc_wo_m: DataCube = dc_wo_resampled.drop_dimension(\"bands\") * 1.0\n",
    "dc_wo_m = dc_wo_m.add_dimension(name=\"bands\", label=\"wo\", type=\"bands\")\n",
    "dc_wo_m.metadata.dimension_names()"
   ]
  },
  {
   "cell_type": "markdown",
   "id": "408b0cda-8e89-4f01-8315-8fe43db052b3",
   "metadata": {},
   "source": [
    "## Merge DataCube\n",
    "Now merge the aggregated Water Occurrence cube on the MNDWI cube"
   ]
  },
  {
   "cell_type": "code",
   "execution_count": null,
   "id": "8e1d3849-2baa-4964-ab3f-e75de15c3ebf",
   "metadata": {},
   "outputs": [],
   "source": [
    "from openeo import processes\n",
    "\n",
    "dc_merged: DataCube = mndwi_mergeable.merge_cubes(dc_wo_m)"
   ]
  },
  {
   "cell_type": "markdown",
   "id": "bcf63de6-54aa-40ff-a0ad-34ca0bf0c5dd",
   "metadata": {
    "tags": []
   },
   "source": [
    "## Download and inspect result"
   ]
  },
  {
   "cell_type": "code",
   "execution_count": null,
   "id": "28e89a3c-b522-4549-8312-355117a1edce",
   "metadata": {},
   "outputs": [],
   "source": [
    "from openeo.rest.job import RESTJob\n",
    "job: RESTJob = dc_merged.create_job(\"netcdf\", title=\"merging_wo\", description=\"merging water occurrence.\")\n",
    "job = job.start_and_wait()"
   ]
  },
  {
   "cell_type": "code",
   "execution_count": null,
   "id": "f6c7e933-9fdd-457e-b67a-0693a2ad387f",
   "metadata": {},
   "outputs": [],
   "source": [
    "merged_path = out_dir / \"merged.nc\"\n",
    "job.get_results().get_assets()[0].download(merged_path)"
   ]
  },
  {
   "cell_type": "code",
   "execution_count": null,
   "id": "1c3d9060-e3cf-492d-b038-0f02d6d94e3b",
   "metadata": {},
   "outputs": [],
   "source": [
    "import rioxarray\n",
    "import xarray as xr\n",
    "\n",
    "merged_path = out_dir / \"merged.nc\"\n",
    "fixed_merged_path: Path = out_dir / \"merged_fixed.nc\"\n",
    "ds_merged: xr.Dataset = rioxarray.open_rasterio(merged_path)\n",
    "ds_merged = ds_merged.drop(\"crs\")\n",
    "ds_merged.to_netcdf(fixed_merged_path)\n",
    "ds_merged"
   ]
  },
  {
   "cell_type": "code",
   "execution_count": null,
   "id": "5ed70a4d-cceb-41ea-a6d0-1dc32b451b10",
   "metadata": {},
   "outputs": [],
   "source": [
    "import cartopy.crs as ccrs\n",
    "\n",
    "import geoviews as gv\n",
    "import holoviews as hv\n",
    "import numpy as np\n",
    "\n",
    "from holoviews import opts, streams\n",
    "from holoviews.element.tiles import OSM\n",
    "\n",
    "gv.extension(\"bokeh\",\"matplotlib\")"
   ]
  },
  {
   "cell_type": "code",
   "execution_count": null,
   "id": "9497f65a-1f67-4376-aa25-ddc15f349918",
   "metadata": {},
   "outputs": [],
   "source": [
    "kdims = [\"x\", \"y\", \"t\"]\n",
    "vdims = [\"wo\", \"MNDWI\"]\n",
    "\n",
    "hv.Dimension.type_formatters[np.datetime64] = '%Y-%m-%d-%H:%M'  # readable time format\n",
    "gv_merged = gv.Dataset(ds_merged, kdims=kdims, vdims=vdims, crs=ccrs.UTM(utm_zone)).redim(x=\"lon\", y=\"lat\")\n",
    "# gv_merged = gv.Dataset(da_merged, kdims=kdims, vdims=vdims).redim(x=\"lon\", y=\"lat\")\n",
    "print(repr(gv_merged))"
   ]
  },
  {
   "cell_type": "code",
   "execution_count": null,
   "id": "932ff5da-659e-45a7-a441-26c81f122aa3",
   "metadata": {},
   "outputs": [],
   "source": [
    "dmap = gv_merged.to(gv.Image, [\"lon\", \"lat\"], \"MNDWI\", group=\"raw_data\", label=\"raw\", datatype=[\"xarray\"], dynamic=True)\n",
    "overlay = OSM() * dmap\n",
    "overlay.opts(\n",
    "    # opts.Image(cmap=\"turbo\", colorbar=True, clim=(0, 100), alpha=0.8, height=500, width=500, tools=[\"hover\"]),\n",
    "    opts.Image(cmap=\"turbo\", colorbar=True, clim=(-1, 1), alpha=0.8, height=500, width=500, tools=[\"hover\"]),\n",
    "    opts.Tiles(height=500, width=500))\n",
    "\n",
    "overlay"
   ]
  },
  {
   "cell_type": "markdown",
   "id": "749448c2-b4b8-449f-81e1-748c7ecd0572",
   "metadata": {},
   "source": [
    "## Local dataset\n",
    "First we download the MNDWI datacube and experiment with it locally"
   ]
  },
  {
   "cell_type": "code",
   "execution_count": null,
   "id": "19a65a89-436c-4bb3-b730-85d29ae934f3",
   "metadata": {},
   "outputs": [],
   "source": [
    "job: RESTJob = mndwi.send_job(\"netcdf\", \"mndwi\", description=\"mndwi\")\n",
    "job = job.start_and_wait()"
   ]
  },
  {
   "cell_type": "code",
   "execution_count": null,
   "id": "7d7a61d9-d1f7-4d7c-b537-6fd9ac8a0560",
   "metadata": {},
   "outputs": [],
   "source": [
    "mndwi_path: Path = out_dir / \"mndwi.nc\"\n",
    "job.get_results().get_assets()[0].download(mndwi_path)"
   ]
  },
  {
   "cell_type": "code",
   "execution_count": null,
   "id": "c47f5884-31a1-4795-be61-020fc8af45aa",
   "metadata": {},
   "outputs": [],
   "source": [
    "import rioxarray\n",
    "import xarray as xr\n",
    "\n",
    "\n",
    "fixed_mndwi_path: Path = out_dir / \"mndwi_fixed.nc\"\n",
    "ds_mndwi: xr.Dataset = rioxarray.open_rasterio(mndwi_path)\n",
    "da_mndwi = ds_mndwi.drop(\"crs\")\n",
    "da_mndwi.to_netcdf(fixed_mndwi_path)"
   ]
  },
  {
   "cell_type": "code",
   "execution_count": null,
   "id": "b8be1f98-6f14-48ce-9bf1-2e498f1e740e",
   "metadata": {},
   "outputs": [],
   "source": [
    "da_mndwi"
   ]
  },
  {
   "cell_type": "code",
   "execution_count": null,
   "id": "ad28e80d-d69f-452f-a510-af7126bc977e",
   "metadata": {},
   "outputs": [],
   "source": [
    "mndwi_da = ds_merged[\"MNDWI\"]"
   ]
  },
  {
   "cell_type": "code",
   "execution_count": null,
   "id": "97b6bccd-d832-484e-bfc9-288aabe546d1",
   "metadata": {},
   "outputs": [],
   "source": [
    "import cartopy.crs as ccrs\n",
    "\n",
    "import geoviews as gv\n",
    "import holoviews as hv\n",
    "import numpy as np\n",
    "\n",
    "from holoviews import opts, streams\n",
    "from holoviews.element.tiles import OSM\n",
    "\n",
    "gv.extension(\"bokeh\",\"matplotlib\")"
   ]
  },
  {
   "cell_type": "code",
   "execution_count": null,
   "id": "733d8b3e-a442-4718-b3f6-a466f0a0324d",
   "metadata": {},
   "outputs": [],
   "source": [
    "kdims = [\"x\", \"y\", \"t\"]\n",
    "vdims = [\"var\"]\n",
    "\n",
    "hv.Dimension.type_formatters[np.datetime64] = '%Y-%m-%d-%H:%M'  # readable time format\n",
    "gv_mndwi = gv.Dataset(da_mndwi, kdims=kdims, vdims=vdims, crs=ccrs.UTM(utm_zone)).redim(x=\"lon\", y=\"lat\")\n",
    "\n",
    "print(repr(gv_mndwi))"
   ]
  },
  {
   "cell_type": "code",
   "execution_count": null,
   "id": "1101d4a3-7345-4f2e-ae70-f751645cbcc4",
   "metadata": {},
   "outputs": [],
   "source": [
    "dmap_mndwi = gv_mndwi.to(gv.Image, [\"lon\", \"lat\"], \"var\", group=\"raw_data\", label=\"raw\", datatype=[\"xarray\"], dynamic=True)\n",
    "overlay_mndwi = OSM() * dmap_mndwi\n",
    "overlay_mndwi.opts(\n",
    "    opts.Image(cmap=\"turbo\", colorbar=True, clim=(-1, 1), alpha=0.8, height=500, width=500, tools=[\"hover\"]),\n",
    "    opts.Tiles(height=500, width=500))\n",
    "\n",
    "overlay_mndwi"
   ]
  },
  {
   "cell_type": "markdown",
   "id": "b6003eac-11a8-4fc5-b071-36b1015ba8fb",
   "metadata": {},
   "source": [
    "## Get otsu around water edges\n",
    "\n",
    "The algorithm uses Canny edge detection to detect changes around the water edges in the reservoir. Then we use otsu thresholding to define a correct mndwi threshold for filtering non-water/water pixels around these edges."
   ]
  },
  {
   "cell_type": "code",
   "execution_count": null,
   "id": "3393ff2b-38b3-40b2-aed5-d3a3a765e3cc",
   "metadata": {},
   "outputs": [],
   "source": [
    "%matplotlib inline"
   ]
  },
  {
   "cell_type": "code",
   "execution_count": null,
   "id": "25888f3c-c613-4192-a097-4ccadb5639e3",
   "metadata": {},
   "outputs": [],
   "source": [
    "mndwi_da.dims"
   ]
  },
  {
   "cell_type": "code",
   "execution_count": null,
   "id": "39c7eb24-a167-4aee-90ca-b1be9f33471c",
   "metadata": {},
   "outputs": [],
   "source": [
    "from skimage.filters import threshold_otsu\n",
    "from skimage.feature import canny\n",
    "\n",
    "import matplotlib.pyplot as plt\n",
    "import matplotlib as mpl\n",
    "\n",
    "# non_nan = da_mndwi.ffill(\"x\").bfill(\"x\").ffill(\"y\").bfill(\"y\")\n",
    "# non_nan = ds_merged[\"MNDWI\"].ffill(\"x\").bfill(\"x\").ffill(\"y\").bfill(\"y\")\n",
    "t = 3\n",
    "mndwi_da = ds_merged[\"MNDWI\"].isel(t=t)\n",
    "isnan = np.isnan(mndwi_da)\n",
    "masked_mndwi = np.ma.array(mndwi_da.values, mask=isnan, fill_value=np.NaN)\n",
    "can = canny(masked_mndwi, 0.7, 0.5, 1)\n",
    "\n",
    "flat = mndwi_da.values.ravel()\n",
    "flat = flat[~np.isnan(flat)]\n",
    "thresh = threshold_otsu(flat, nbins=100)\n",
    "print(f\"otsu: {thresh}\")\n",
    "plt.imshow(isnan)\n",
    "plt.colorbar()"
   ]
  },
  {
   "cell_type": "code",
   "execution_count": null,
   "id": "fce18bd0-1bda-45f6-87fb-0cfcfc09f518",
   "metadata": {},
   "outputs": [],
   "source": [
    "cmap = mpl.cm.turbo\n",
    "norm = mpl.colors.Normalize(vmin=-1, vmax=1)\n",
    "plt.imshow(mndwi_da, cmap=cmap, norm=norm)\n",
    "plt.colorbar()"
   ]
  },
  {
   "cell_type": "code",
   "execution_count": null,
   "id": "54d75550-f81a-4030-8e0e-784943d79593",
   "metadata": {},
   "outputs": [],
   "source": [
    "mndwi_da.values"
   ]
  },
  {
   "cell_type": "code",
   "execution_count": null,
   "id": "e7c3a3ca-c81c-4a84-b783-47825f9ab5db",
   "metadata": {},
   "outputs": [],
   "source": [
    "plt.imshow(can)\n",
    "plt.colorbar()"
   ]
  },
  {
   "cell_type": "code",
   "execution_count": null,
   "id": "1e01e23f-bfb0-478a-bc1c-c88e5f4646ca",
   "metadata": {},
   "outputs": [],
   "source": [
    "import skimage.morphology\n",
    "\n",
    "dilated = skimage.morphology.dilation(can, footprint=np.ones([3, 3]))\n",
    "dilated = np.ma.array(dilated, mask=isnan, fill_value=np.NaN)\n",
    "cmap = mpl.cm.turbo\n",
    "norm = mpl.colors.Normalize(vmin=-2, vmax=2)\n",
    "plt.imshow(dilated, cmap=cmap, norm=norm)\n",
    "plt.colorbar()"
   ]
  },
  {
   "cell_type": "code",
   "execution_count": null,
   "id": "9db708d5-a0b6-4c96-8f7c-6b6b2b0a64b5",
   "metadata": {},
   "outputs": [],
   "source": [
    "plt.imshow(isnan, cmap=cmap, norm=norm)\n",
    "plt.colorbar()"
   ]
  },
  {
   "cell_type": "code",
   "execution_count": null,
   "id": "ff4c97b1-ab23-4709-ac55-e323b63246d5",
   "metadata": {},
   "outputs": [],
   "source": [
    "mndwi_edge = np.ma.array(masked_mndwi, mask=np.logical_or(isnan, ~dilated), fill_value=np.NaN)\n",
    "plt.imshow(mndwi_edge)"
   ]
  },
  {
   "cell_type": "markdown",
   "id": "267d6d8a-4464-4ed7-a90f-34c61c45e8d1",
   "metadata": {},
   "source": [
    "Zoom as I cannot see these tiny specks"
   ]
  },
  {
   "cell_type": "code",
   "execution_count": null,
   "id": "3a459452-0ddc-4ad4-812e-f8360f12075e",
   "metadata": {},
   "outputs": [],
   "source": [
    "cmap = mpl.cm.turbo\n",
    "norm = mpl.colors.Normalize(vmin=-1, vmax=1)\n",
    "plt.imshow(mndwi_edge[270:319, 130:199], cmap=cmap, norm=norm)\n",
    "plt.colorbar()"
   ]
  },
  {
   "cell_type": "code",
   "execution_count": null,
   "id": "b7f70c52-ce57-451f-83dc-ee00ebd79905",
   "metadata": {},
   "outputs": [],
   "source": [
    "flat = mndwi_edge[~mndwi_edge.mask]\n",
    "flat = flat[~np.isnan(flat)]\n",
    "flat"
   ]
  },
  {
   "cell_type": "code",
   "execution_count": null,
   "id": "cf3a1899-3a33-48ec-b826-af6306802628",
   "metadata": {},
   "outputs": [],
   "source": [
    "th = threshold_otsu(flat, nbins=100)\n",
    "th"
   ]
  },
  {
   "cell_type": "code",
   "execution_count": null,
   "id": "ee5fd376-2164-4a4d-b789-fe2b35ae2558",
   "metadata": {},
   "outputs": [],
   "source": [
    "water = mndwi_da > th\n",
    "water = np.ma.array(water, mask=isnan, fill_value=np.NaN)\n",
    "plt.imshow(water)\n",
    "plt.colorbar()"
   ]
  },
  {
   "cell_type": "code",
   "execution_count": null,
   "id": "82bcfadf-ceeb-489d-94ff-2aa3c065c56e",
   "metadata": {},
   "outputs": [],
   "source": [
    "area = water.sum() * 10e2 #m2\n",
    "area  # 21618000.0"
   ]
  },
  {
   "cell_type": "markdown",
   "id": "d324b3a8-2754-4f99-8cb7-9c357ed8f895",
   "metadata": {
    "tags": []
   },
   "source": [
    "## Download Global Water Occurrence dataset"
   ]
  },
  {
   "cell_type": "code",
   "execution_count": null,
   "id": "556df9fe-11d4-43a6-9a79-68771ee3f90f",
   "metadata": {},
   "outputs": [],
   "source": [
    "# con.describe_collection(\"GLOBAL_SURFACE_WATER\")"
   ]
  },
  {
   "cell_type": "code",
   "execution_count": null,
   "id": "2cb1da13-fbba-4fbe-b837-77d2dfea3736",
   "metadata": {},
   "outputs": [],
   "source": [
    "water_occurrence: DataCube = con.load_collection(\n",
    "    collection_id=\"GLOBAL_SURFACE_WATER\",\n",
    "    spatial_extent=bbox_openeo,\n",
    "    bands=[\"occurrence\"]\n",
    ")"
   ]
  },
  {
   "cell_type": "code",
   "execution_count": null,
   "id": "be74c2be-f4c7-43ad-8e09-02717bb32b95",
   "metadata": {},
   "outputs": [],
   "source": [
    "job: RESTJob = water_occurrence.send_job(\"netcdf\", \"wo\", description=\"wo\")\n",
    "job = job.start_and_wait()"
   ]
  },
  {
   "cell_type": "code",
   "execution_count": null,
   "id": "c3517ac3-dc4b-4383-8040-860721f8deb6",
   "metadata": {},
   "outputs": [],
   "source": [
    "wo_path = out_dir / \"wo.nc\"\n",
    "job.get_results().get_assets()[0].download(wo_path)"
   ]
  },
  {
   "cell_type": "code",
   "execution_count": null,
   "id": "64f17854-868f-44f6-887c-c3e677af7b3e",
   "metadata": {},
   "outputs": [],
   "source": [
    "import rioxarray\n",
    "import xarray as xr\n",
    "\n",
    "wo_path = out_dir / \"wo.nc\"\n",
    "fixed_wo_path: Path = out_dir / \"wo_fixed.nc\"\n",
    "ds_wo: xr.Dataset = rioxarray.open_rasterio(wo_path)\n",
    "da_wo = ds_wo.drop(\"crs\")\n",
    "da_wo.to_netcdf(fixed_wo_path)\n",
    "da_wo"
   ]
  },
  {
   "cell_type": "code",
   "execution_count": null,
   "id": "228003ae-1eed-43fc-bb1b-de452bd08457",
   "metadata": {},
   "outputs": [],
   "source": [
    "ds_merged[\"wo\"]"
   ]
  },
  {
   "cell_type": "code",
   "execution_count": null,
   "id": "1fe04ff7-f0dc-4453-8032-098f45782b6d",
   "metadata": {},
   "outputs": [],
   "source": [
    "plt.imshow(ds_merged[\"wo\"].isel(t=t).values)"
   ]
  },
  {
   "cell_type": "code",
   "execution_count": null,
   "id": "412a0e69-d5d7-4246-8c22-2519501e04e6",
   "metadata": {},
   "outputs": [],
   "source": [
    "# reproject onto utm\n",
    "import rioxarray\n",
    "\n",
    "da_wo = da_wo.rio.write_crs(4326)\n",
    "da_wo"
   ]
  },
  {
   "cell_type": "code",
   "execution_count": null,
   "id": "954f55fa-d043-4b8c-81b3-e5e8e11fb860",
   "metadata": {},
   "outputs": [],
   "source": [
    "da_wo_utm = da_wo.rio.reproject(da_wo.rio.estimate_utm_crs())\n",
    "print(f\"new crs: {da_wo_utm.rio.crs}\")\n",
    "da_wo_utm\n",
    "plt.imshow(da_wo_utm.isel(t=1))"
   ]
  },
  {
   "cell_type": "code",
   "execution_count": null,
   "id": "dc7dc34d-6c6e-4b2b-9732-8764f5733d95",
   "metadata": {},
   "outputs": [],
   "source": [
    "ds_merged[\"MNDWI\"].coords.get(\"x\")"
   ]
  },
  {
   "cell_type": "code",
   "execution_count": null,
   "id": "6593f3fc-06f8-4748-bf9c-04ccea871584",
   "metadata": {},
   "outputs": [],
   "source": [
    "# Then start resample on mdnwi datacube\n",
    "da_wo_interp = da_wo_utm.interp(coords={\"x\": ds_merged[\"MNDWI\"].coords.get(\"x\"), \"y\": ds_merged[\"MNDWI\"].coords.get(\"y\")}, assume_sorted=False)\n",
    "da_wo_interp"
   ]
  },
  {
   "cell_type": "code",
   "execution_count": null,
   "id": "4ab1f98e-0fdd-4794-9833-c5ab5227f8f4",
   "metadata": {},
   "outputs": [],
   "source": [
    "plt.imshow(da_wo_interp.isel(t=1))"
   ]
  },
  {
   "cell_type": "markdown",
   "id": "b03a4353-2f32-4b77-8fc6-45a9e68bdbbd",
   "metadata": {},
   "source": [
    "## Use merged cube"
   ]
  },
  {
   "cell_type": "code",
   "execution_count": null,
   "id": "76bc5f60-84a5-4adb-9b6f-885fec733046",
   "metadata": {},
   "outputs": [],
   "source": [
    "wo = ds_merged[\"wo\"].isel(t=t)"
   ]
  },
  {
   "cell_type": "code",
   "execution_count": null,
   "id": "d51a6201-4968-4795-99c7-084e561fb4ba",
   "metadata": {},
   "outputs": [],
   "source": [
    "wo_edge = np.ma.array(wo, mask=np.logical_or(isnan, ~dilated), fill_value=np.NaN)\n",
    "# wo_edge = wo.where(dilated)\n",
    "wo_flat = wo_edge[~wo_edge.mask]\n",
    "wo_flat = wo_flat[~np.isnan(wo_flat)]\n",
    "p = np.median(wo_flat)\n",
    "p"
   ]
  },
  {
   "cell_type": "code",
   "execution_count": null,
   "id": "891eacf8-e445-43b2-b3f7-f1c89e9b3565",
   "metadata": {},
   "outputs": [],
   "source": [
    "plt.imshow(wo[270:319, 130:199])"
   ]
  },
  {
   "cell_type": "code",
   "execution_count": null,
   "id": "a394b2d3-b635-4405-b328-c869bfb0c9d2",
   "metadata": {},
   "outputs": [],
   "source": [
    "plt.imshow(wo_edge[270:319, 130:199])"
   ]
  },
  {
   "cell_type": "code",
   "execution_count": null,
   "id": "44883524-0b34-43e7-9722-7b03094ac648",
   "metadata": {},
   "outputs": [],
   "source": [
    "plt.imshow(isnan)\n",
    "plt.colorbar()"
   ]
  },
  {
   "cell_type": "code",
   "execution_count": null,
   "id": "1595c5c7-f95b-4da3-876d-ef12d058a89d",
   "metadata": {},
   "outputs": [],
   "source": [
    "# get correct \"water height\" and exclude low values of mndwi (we're sure it's land)\n",
    "water_fill_JRC = wo.values > p\n",
    "water_fill_JRC = np.ma.array(water_fill_JRC, mask=isnan, fill_value=np.NaN)\n",
    "nonwater = mndwi_da.values < -0.15\n",
    "plt.imshow(water_fill_JRC)\n",
    "plt.colorbar()"
   ]
  },
  {
   "cell_type": "code",
   "execution_count": null,
   "id": "855eb5f1-ef60-46b9-bd4c-194cd1bffd4a",
   "metadata": {},
   "outputs": [],
   "source": [
    "plt.imshow(nonwater)\n",
    "plt.colorbar()"
   ]
  },
  {
   "cell_type": "code",
   "execution_count": null,
   "id": "6627ecb8-fd19-48d8-bc8a-43bddb1a99f4",
   "metadata": {},
   "outputs": [],
   "source": [
    "# Now filter where we already have a value for \"water\"\n",
    "# water_fill_JRC.mask = np.logical_or(water, water_fill_JRC.mask)\n",
    "# water_fill = water_fill_JRC.where(~water)\n",
    "water_fill = np.logical_and(nonwater, water_fill_JRC)\n",
    "plt.imshow(water_fill)\n",
    "plt.colorbar()"
   ]
  },
  {
   "cell_type": "code",
   "execution_count": null,
   "id": "e0cd80ed-6e65-42cb-88ec-c14a9e32c98f",
   "metadata": {},
   "outputs": [],
   "source": [
    "# area_filled = water_fill.where(~np.isnan(water_fill)).sum() * 10e2  # m2\n",
    "area_filled = water_fill.sum() * 10e2\n",
    "# print(f\"area filled: {area_filled.values[()]}\")\n",
    "print(f\"area filled: {area_filled}\")\n",
    "filled_fraction = area_filled / area\n",
    "# print(f\"filled fraction: {filled_fraction.values[()]}\")\n",
    "print(f\"filled fraction: {filled_fraction}\")"
   ]
  },
  {
   "cell_type": "code",
   "execution_count": null,
   "id": "832a9ea6-9084-4829-bcaa-0237465c0c88",
   "metadata": {},
   "outputs": [],
   "source": [
    "total_water = water_fill + water\n",
    "assert total_water.sum() * 10e2 == area_filled + area\n",
    "\n",
    "plt.imshow(total_water)\n",
    "plt.colorbar()"
   ]
  },
  {
   "cell_type": "markdown",
   "id": "d5c8724b-8d45-46c8-a482-4ac5c8fff5cb",
   "metadata": {},
   "source": [
    "## Make udf-ready\n",
    "A UDF uses xr.DataArray as input and output. Also, this functionality needs to work for all t."
   ]
  },
  {
   "cell_type": "code",
   "execution_count": null,
   "id": "f2e5e2c1-2641-4eed-a8d6-019fe29318a7",
   "metadata": {},
   "outputs": [],
   "source": [
    "print(mndwi_da.attrs)"
   ]
  },
  {
   "cell_type": "code",
   "execution_count": null,
   "id": "60680b1c-44a2-4be8-a8ee-917c4e153cd5",
   "metadata": {},
   "outputs": [],
   "source": [
    "from skimage.filters import threshold_otsu\n",
    "from skimage.feature import canny\n",
    "import skimage.morphology\n",
    "\n",
    "import matplotlib.pyplot as plt\n",
    "import matplotlib as mpl\n",
    "\n",
    "t = 3\n",
    "\n",
    "mndwi_da = ds_merged[\"MNDWI\"]\n",
    "print(mndwi_da.dims)\n",
    "wo = ds_merged[\"wo\"]\n",
    "print(wo.dims)\n",
    "\n",
    "isnan = np.isnan(mndwi_da).values\n",
    "masked_mndwi = np.ma.array(mndwi_da.values, mask=isnan, fill_value=np.NaN)\n",
    "masked_wo = np.ma.array(wo.values, mask=isnan, fill_value=np.NaN)\n",
    "for i in range(masked_mndwi.shape[0]):\n",
    "    mndwi_slice = masked_mndwi[i, :, :]\n",
    "    wo_slice = masked_wo[i, :, :]\n",
    "    nanmask = isnan[i, :, :]\n",
    "    \n",
    "    edge_image = canny(mndwi_slice, sigma=0.7, low_threshold=0.5, high_threshold=1)\n",
    "    dilated = skimage.morphology.dilation(edge_image, footprint=np.ones([3, 3]))\n",
    "    dilated = np.ma.array(dilated, mask=nanmask, fill_value=np.NaN)\n",
    "    mndwi_edge = np.ma.array(mndwi_slice, mask=np.logical_or(nanmask, ~dilated))\n",
    "    flat = mndwi_edge[~mndwi_edge.mask]\n",
    "    flat = flat[~np.isnan(flat)]\n",
    "    th = threshold_otsu(flat, nbins=100)\n",
    "    print(f\"otsu threshold: {th}\")\n",
    "    water = mndwi_slice > th\n",
    "    water = np.ma.array(water, mask=nanmask, fill_value=np.NaN)\n",
    "    area = water.sum() * 10e2 #m2\n",
    "    print(f\"area: {area}\")\n",
    "    \n",
    "    wo_edge = np.ma.array(wo_slice, mask=np.logical_or(nanmask, ~dilated), fill_value=np.NaN)\n",
    "    wo_flat = wo_edge[~wo_edge.mask]\n",
    "    wo_flat = wo_flat[~np.isnan(wo_flat)]\n",
    "    p = np.median(wo_flat)\n",
    "    \n",
    "    water_fill_JRC = wo_slice > p\n",
    "    water_fill_JRC = np.ma.array(water_fill_JRC, mask=nanmask, fill_value=np.NaN)\n",
    "    nonwater = mndwi_slice < -0.15\n",
    "    water_fill = np.logical_and(nonwater, water_fill_JRC)\n",
    "    area_filled = water_fill.sum() * 10e2\n",
    "    print(f\"area filled: {area_filled}\")\n",
    "    filled_fraction = area_filled / area\n",
    "    print(f\"filled fraction: {filled_fraction}\")\n",
    "    total_water = water_fill + water\n",
    "    print(f\"total_water_area: {total_water.sum() * 10e2}\")\n",
    "    print(area_filled + area)\n",
    "    assert total_water.sum() * 10e2 == area_filled + area\n",
    "    \n",
    "    total_water = np.expand_dims(total_water, axis=0)\n",
    "    water_fill = np.expand_dims(water_fill, axis=0)\n",
    "    water = np.expand_dims(water, axis=0)\n",
    "    \n",
    "    if i == 0:\n",
    "        w = water\n",
    "        wf = water_fill\n",
    "        tw = total_water\n",
    "    else:\n",
    "        w = np.append(w, water, axis=0)\n",
    "        wf = np.append(wf, water_fill, axis=0)\n",
    "        tw = np.append(tw, total_water, axis=0)\n",
    "\n",
    "da_w = xr.DataArray(data=w, coords=mndwi_da.coords, dims=mndwi_da.dims)\n",
    "da_wf = xr.DataArray(data=wf, coords=mndwi_da.coords, dims=mndwi_da.dims)\n",
    "da_tw = xr.DataArray(data=tw, coords=mndwi_da.coords, dims=mndwi_da.dims)"
   ]
  },
  {
   "cell_type": "markdown",
   "id": "1b7ded96-4cd7-4fdb-a475-df5417f665af",
   "metadata": {
    "tags": []
   },
   "source": [
    "## Test UDF\n",
    "The previous functionality is inserted into a udf, that we will now use for a mapping operation using `chunk_polygon`."
   ]
  },
  {
   "cell_type": "code",
   "execution_count": null,
   "id": "abe7bb5b-c9da-4ffe-ad1a-2a87d068960d",
   "metadata": {},
   "outputs": [],
   "source": [
    "def load_udf(path: Path):\n",
    "    with open(path, 'r+') as f:\n",
    "        return f.read()\n",
    "\n",
    "udf_path: Path = Path.cwd().parent / \"udfs\" / \"gww.py\"\n",
    "gww_udf = load_udf(udf_path)"
   ]
  },
  {
   "cell_type": "markdown",
   "id": "6077760a-5f44-4113-aa01-450035f7445f",
   "metadata": {},
   "source": [
    "### Execute locally\n",
    "We cannot add bands that were not there before, so first we add and copy some random bands (in this case from the MNDWI band label).\n",
    "First download cube with added bands"
   ]
  },
  {
   "cell_type": "code",
   "execution_count": null,
   "id": "6876d9b6-e480-478d-8a1a-ada4bc7927f1",
   "metadata": {},
   "outputs": [],
   "source": [
    "water = dc_merged.filter_bands([\"MNDWI\"]).apply(lambda _: processes.int(1)).rename_labels(dimension=\"bands\", target=[\"water\"], source=[\"MNDWI\"])\n",
    "water_fill = dc_merged.filter_bands([\"MNDWI\"]).apply(lambda _: processes.int(1)).rename_labels(dimension=\"bands\", target=[\"water_fill\"], source=[\"MNDWI\"])\n",
    "total_water = dc_merged.filter_bands([\"MNDWI\"]).apply(lambda _: processes.int(1)).rename_labels(dimension=\"bands\", target=[\"total_water\"], source=[\"MNDWI\"])\n",
    "udf_dc = dc_merged.merge_cubes(water).merge_cubes(water_fill).merge_cubes(total_water)"
   ]
  },
  {
   "cell_type": "markdown",
   "id": "caf829e4-6071-4888-89d1-2974b64cc4c0",
   "metadata": {},
   "source": [
    "Try out water dc"
   ]
  },
  {
   "cell_type": "code",
   "execution_count": null,
   "id": "cef20942-6bf9-486c-a832-392f866a9ad2",
   "metadata": {},
   "outputs": [],
   "source": [
    "job = water.create_job(\"netcdf\", title=\"water\", description=\"water\")\n",
    "job = job.start_and_wait()"
   ]
  },
  {
   "cell_type": "code",
   "execution_count": null,
   "id": "8f903ed6-cc52-4f5e-993c-3104fa4f1757",
   "metadata": {},
   "outputs": [],
   "source": [
    "water_path = out_dir / \"water.nc\"\n",
    "job.get_results().get_assets()[0].download(water_path)"
   ]
  },
  {
   "cell_type": "code",
   "execution_count": null,
   "id": "2f79b35c-53db-4ad1-a214-c09417a86460",
   "metadata": {},
   "outputs": [],
   "source": [
    "import rioxarray\n",
    "import xarray as xr\n",
    "\n",
    "water_path = out_dir / \"water.nc\"\n",
    "ds_water: xr.Dataset = rioxarray.open_rasterio(water_path)"
   ]
  },
  {
   "cell_type": "code",
   "execution_count": null,
   "id": "1e446835-a3f4-4c78-8fa6-1d692d97e77c",
   "metadata": {},
   "outputs": [],
   "source": [
    "ds_water"
   ]
  },
  {
   "cell_type": "code",
   "execution_count": null,
   "id": "dd704f33-5b06-4b71-b416-c0ede29e6b7d",
   "metadata": {},
   "outputs": [],
   "source": [
    "job.get_results().get_assets()"
   ]
  },
  {
   "cell_type": "markdown",
   "id": "44f22b35-931a-41a5-8611-99974e9aa208",
   "metadata": {},
   "source": [
    "Now try entire set of extra bands"
   ]
  },
  {
   "cell_type": "code",
   "execution_count": null,
   "id": "288cf236-eaa5-462c-a126-379d96402818",
   "metadata": {},
   "outputs": [],
   "source": [
    "job = udf_dc.create_job(\"netcdf\", title=\"udf_dc\", description=\"download dc for udf testing locally\")\n",
    "job = job.start_and_wait()"
   ]
  },
  {
   "cell_type": "code",
   "execution_count": null,
   "id": "8f33db7e-2e83-45dd-bd72-58c9ef43795c",
   "metadata": {},
   "outputs": [],
   "source": [
    "udf_dc_path = out_dir / \"udf_dc.nc\"\n",
    "job.get_results().get_assets()[0].download(udf_dc_path)"
   ]
  },
  {
   "cell_type": "code",
   "execution_count": null,
   "id": "8500b7f7-8b0f-400e-9497-12c66837774b",
   "metadata": {},
   "outputs": [],
   "source": [
    "import rioxarray\n",
    "import xarray as xr\n",
    "\n",
    "udf_dc_path = out_dir / \"udf_dc.nc\"\n",
    "fixed_udf_dc_path: Path = out_dir / \"udf_dc_fixed.nc\"\n",
    "ds_udf: xr.Dataset = rioxarray.open_rasterio(udf_dc_path)\n",
    "ds_udf = ds_udf.drop(\"crs\")\n",
    "ds_udf.to_netcdf(fixed_udf_dc_path)"
   ]
  },
  {
   "cell_type": "code",
   "execution_count": null,
   "id": "2b400115-035d-4cb2-b3db-2b66478dd74c",
   "metadata": {},
   "outputs": [],
   "source": [
    "ds_udf"
   ]
  },
  {
   "cell_type": "code",
   "execution_count": null,
   "id": "1d190b0f-8d34-40e9-86a3-11ae14874d2f",
   "metadata": {},
   "outputs": [],
   "source": [
    "from openeo.udf import execute_local_udf\n",
    "from openeo.udf.udf_data import UdfData\n",
    "result: UdfData = execute_local_udf(gww_udf, udf_dc_path, fmt='netcdf')"
   ]
  },
  {
   "cell_type": "code",
   "execution_count": null,
   "id": "9d9c38b7-1b59-4d7a-8f67-be4f9a5faba4",
   "metadata": {},
   "outputs": [],
   "source": [
    "result_da = result.datacube_list[0].get_array()"
   ]
  },
  {
   "cell_type": "code",
   "execution_count": null,
   "id": "98c86be0-82c8-423f-b564-79336a7e90eb",
   "metadata": {},
   "outputs": [],
   "source": [
    "result_da.coords"
   ]
  },
  {
   "cell_type": "code",
   "execution_count": null,
   "id": "29af8f64-20cc-4c3d-9c79-3e31637200e4",
   "metadata": {},
   "outputs": [],
   "source": [
    "result_da.drop_sel({\"bands\": [\"water_fill\", \"water\", \"total_water\"]})"
   ]
  },
  {
   "cell_type": "code",
   "execution_count": null,
   "id": "18d84c39-9460-4222-a0b3-10f02685aa0a",
   "metadata": {},
   "outputs": [],
   "source": [
    "plt.imshow(result_da.sel(bands=\"water_fill\").isel(t=3))"
   ]
  },
  {
   "cell_type": "code",
   "execution_count": null,
   "id": "b1ce1041-3b2b-43b4-92a8-45eee791f0aa",
   "metadata": {},
   "outputs": [],
   "source": [
    "from openeo import processes\n",
    "\n",
    "def run_gww_algorithm(\n",
    "    dc: DataCube,\n",
    "    geometry: BaseGeometry\n",
    ") -> DataCube:\n",
    "    # We need these bands to be available in the cube\n",
    "    water = dc_merged.filter_bands([\"MNDWI\"]).apply(lambda _: processes.int(1)).rename_labels(\"bands\", target=[\"water\"], source=[\"MNDWI\"])\n",
    "    water_fill = dc_merged.filter_bands([\"MNDWI\"]).apply(lambda _: processes.int(1)).rename_labels(\"bands\", target=[\"water_fill\"], source=[\"MNDWI\"])\n",
    "    total_water = dc_merged.filter_bands([\"MNDWI\"]).apply(lambda _: processes.int(1)).rename_labels(\"bands\", target=[\"total_water\"], source=[\"MNDWI\"])\n",
    "    dc = dc.merge_cubes(water).merge_cubes(water_fill).merge_cubes(total_water)\n",
    "    process = lambda data: data.run_udf(udf=gww_udf, runtime=\"Python\")\n",
    "    return dc.chunk_polygon(chunks=geometry, process=process, context={\n",
    "        \"mndwi_band\": \"MNDWI\",\n",
    "        \"wo_band\": \"wo\"\n",
    "    })\n",
    "\n",
    "gww_dc = run_gww_algorithm(dc_merged, selected_mp)"
   ]
  },
  {
   "cell_type": "code",
   "execution_count": null,
   "id": "273a0e20-6b15-45ac-93b2-7dbb9f6a9ef7",
   "metadata": {},
   "outputs": [],
   "source": [
    "job = gww_dc.create_job(\"netcdf\", title=\"gww_udf\", description=\"gww_udf\")\n",
    "job = job.start_and_wait()"
   ]
  },
  {
   "cell_type": "code",
   "execution_count": null,
   "id": "0f7ddbe0-0a96-4bbd-a0ac-9999817e773a",
   "metadata": {},
   "outputs": [],
   "source": [
    "gww_path = out_dir / \"gww.nc\"\n",
    "job.get_results().get_assets()[0].download(gww_path)"
   ]
  },
  {
   "cell_type": "code",
   "execution_count": null,
   "id": "f21fc123-0e53-404f-9602-6e8708c4f7d6",
   "metadata": {},
   "outputs": [],
   "source": [
    "import rioxarray\n",
    "import xarray as xr\n",
    "\n",
    "gww_path = out_dir / \"gww.nc\"\n",
    "fixed_gww_path: Path = out_dir / \"gww_fixed.nc\"\n",
    "ds_gww: xr.Dataset = rioxarray.open_rasterio(gww_path)\n",
    "ds_gww = ds_gww.drop(\"crs\")\n",
    "ds_gww.to_netcdf(fixed_gww_path)"
   ]
  },
  {
   "cell_type": "code",
   "execution_count": null,
   "id": "3574e60c-4063-4526-a5e4-7abac2b476b7",
   "metadata": {},
   "outputs": [],
   "source": [
    "ds_gww"
   ]
  },
  {
   "cell_type": "code",
   "execution_count": null,
   "id": "5c58da8e-3d6c-4d09-a32a-4f0fc9588dde",
   "metadata": {},
   "outputs": [],
   "source": [
    "import cartopy.crs as ccrs\n",
    "\n",
    "import geoviews as gv\n",
    "import holoviews as hv\n",
    "import numpy as np\n",
    "\n",
    "from holoviews import opts, streams\n",
    "from holoviews.element.tiles import OSM\n",
    "\n",
    "gv.extension(\"bokeh\",\"matplotlib\")"
   ]
  },
  {
   "cell_type": "code",
   "execution_count": null,
   "id": "efa6745f-ad29-4a3b-98de-dad69ca3d3e3",
   "metadata": {},
   "outputs": [],
   "source": [
    "kdims = [\"x\", \"y\", \"t\"]\n",
    "vdims = [\"MNDWI\", \"wo\", \"water\", \"water_fill\", \"total_water\"]\n",
    "\n",
    "hv.Dimension.type_formatters[np.datetime64] = '%Y-%m-%d-%H:%M'  # readable time format\n",
    "gv_gww = gv.Dataset(ds_gww, kdims=kdims, vdims=vdims, crs=ccrs.UTM(utm_zone)).redim(x=\"lon\", y=\"lat\")\n",
    "\n",
    "print(repr(gv_gww))"
   ]
  },
  {
   "cell_type": "code",
   "execution_count": null,
   "id": "1f7497c7-9b74-4fe9-a271-d979d962b8e6",
   "metadata": {},
   "outputs": [],
   "source": [
    "dmap_mndwi = gv_gww.to(gv.Image, [\"lon\", \"lat\"], \"total_water\", group=\"raw_data\", label=\"raw\", datatype=[\"xarray\"], dynamic=True)\n",
    "overlay_mndwi = OSM() * dmap_mndwi\n",
    "overlay_mndwi.opts(\n",
    "    opts.Image(cmap=\"turbo\", colorbar=True, clim=(0, 1), alpha=0.8, height=500, width=500, tools=[\"hover\"]),\n",
    "    opts.Tiles(height=500, width=500))\n",
    "\n",
    "overlay_mndwi"
   ]
  },
  {
   "cell_type": "code",
   "execution_count": null,
   "id": "4f2e87f9-71f0-4570-9f61-3b3e6a66edf1",
   "metadata": {},
   "outputs": [],
   "source": []
  }
 ],
 "metadata": {
  "kernelspec": {
   "display_name": "Python 3 (ipykernel)",
   "language": "python",
   "name": "python3"
  },
  "language_info": {
   "codemirror_mode": {
    "name": "ipython",
    "version": 3
   },
   "file_extension": ".py",
   "mimetype": "text/x-python",
   "name": "python",
   "nbconvert_exporter": "python",
   "pygments_lexer": "ipython3",
   "version": "3.9.7"
  }
 },
 "nbformat": 4,
 "nbformat_minor": 5
}
