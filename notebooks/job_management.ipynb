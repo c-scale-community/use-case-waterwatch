{
 "cells": [
  {
   "cell_type": "markdown",
   "id": "5887482a-4398-495b-8342-0f1308c76ffa",
   "metadata": {},
   "source": [
    "# Job Manageent"
   ]
  },
  {
   "cell_type": "code",
   "execution_count": null,
   "id": "2fa2457c-2bd7-4ce0-ac66-b22322073d79",
   "metadata": {},
   "outputs": [],
   "source": [
    "from openeo import connect, Connection\n",
    "from openeo.rest.job import BatchJob\n",
    "\n",
    "# Connect to backends\n",
    "vito_url: str = \"https://openeo.vito.be/openeo/1.0\"\n",
    "vito_creo_url: str = \"https://openeo.creo.vito.be\"\n",
    "vito_dev_url: str = \"https://openeo-dev.vito.be/openeo/1.0/\"\n",
    "ee_url: str = \"https://earthengine.openeo.org\"\n",
    "openeo_platform: str = \"openeo.cloud\"\n",
    "\n",
    "# con: Connection = connect(ee_url).authenticate_basic(username=\"group1\", password=\"test123\")\n",
    "con: Connection = connect(vito_url)\n",
    "con.authenticate_oidc(provider_id=\"egi\")"
   ]
  },
  {
   "cell_type": "code",
   "execution_count": null,
   "id": "10513715-1fb6-4a38-b2db-40148469a938",
   "metadata": {},
   "outputs": [],
   "source": [
    "jobs = con.list_jobs()\n",
    "jobs"
   ]
  },
  {
   "cell_type": "code",
   "execution_count": null,
   "id": "8144b53b-8956-454a-8e58-0f3f9cfbe97d",
   "metadata": {},
   "outputs": [],
   "source": [
    "job: BatchJob = BatchJob(\"j-b60f156346c1405d8a0d69172212e602\", con)"
   ]
  },
  {
   "cell_type": "code",
   "execution_count": null,
   "id": "a150d51d-fb95-42b9-925b-7ae73b5b3e46",
   "metadata": {},
   "outputs": [],
   "source": [
    "job.stop_job()"
   ]
  }
 ],
 "metadata": {
  "kernelspec": {
   "display_name": "Python 3 (ipykernel)",
   "language": "python",
   "name": "python3"
  },
  "language_info": {
   "codemirror_mode": {
    "name": "ipython",
    "version": 3
   },
   "file_extension": ".py",
   "mimetype": "text/x-python",
   "name": "python",
   "nbconvert_exporter": "python",
   "pygments_lexer": "ipython3",
   "version": "3.9.7"
  }
 },
 "nbformat": 4,
 "nbformat_minor": 5
}
